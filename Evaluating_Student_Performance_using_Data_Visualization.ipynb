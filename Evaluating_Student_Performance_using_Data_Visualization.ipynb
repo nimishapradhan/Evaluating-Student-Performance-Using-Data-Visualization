{
  "nbformat": 4,
  "nbformat_minor": 0,
  "metadata": {
    "colab": {
      "provenance": []
    },
    "kernelspec": {
      "name": "python3",
      "display_name": "Python 3"
    },
    "language_info": {
      "name": "python"
    }
  },
  "cells": [
    {
      "cell_type": "markdown",
      "source": [
        "##Statistical Interpretation and Data Visualization\n",
        "Link to dataset: (https://www.kaggle.com/code/aakcay/student-data-analysis-visualization)"
      ],
      "metadata": {
        "id": "DwvooyWmFzii"
      }
    },
    {
      "cell_type": "code",
      "execution_count": null,
      "metadata": {
        "id": "PKUySRadFj3i"
      },
      "outputs": [],
      "source": [
        "import numpy as np\n",
        "import matplotlib.pyplot as plt\n",
        "import seaborn as sns\n",
        "import pandas as pd"
      ]
    },
    {
      "cell_type": "markdown",
      "source": [
        "Neccesary imports to ...."
      ],
      "metadata": {
        "id": "s0yUwiIlGFug"
      }
    },
    {
      "cell_type": "code",
      "source": [
        "from google.colab import drive\n",
        "drive.mount('/content/drive')"
      ],
      "metadata": {
        "colab": {
          "base_uri": "https://localhost:8080/"
        },
        "id": "vwXbOotmGLCi",
        "outputId": "f328779a-c601-4fd9-dfa6-8f0844ff179f"
      },
      "execution_count": null,
      "outputs": [
        {
          "output_type": "stream",
          "name": "stdout",
          "text": [
            "Drive already mounted at /content/drive; to attempt to forcibly remount, call drive.mount(\"/content/drive\", force_remount=True).\n"
          ]
        }
      ]
    },
    {
      "cell_type": "code",
      "source": [
        "coursework = \"/content/drive/MyDrive/AI/performance.csv\""
      ],
      "metadata": {
        "id": "72LzEmdDGMa6"
      },
      "execution_count": null,
      "outputs": []
    },
    {
      "cell_type": "markdown",
      "source": [
        "Data Understanding and Cleaning:\n",
        "\n",
        "1. Use pandas to upload your data."
      ],
      "metadata": {
        "id": "ogxj4hBcGjxa"
      }
    },
    {
      "cell_type": "code",
      "source": [
        "coursework = pd.read_csv(coursework)\n",
        "coursework"
      ],
      "metadata": {
        "id": "3dbr6csyGnYO",
        "colab": {
          "base_uri": "https://localhost:8080/",
          "height": 468
        },
        "outputId": "52c605a1-7c51-4543-9282-cd037a01fe07"
      },
      "execution_count": null,
      "outputs": [
        {
          "output_type": "execute_result",
          "data": {
            "text/plain": [
              "    school sex  age address famsize Pstatus                           Medu  \\\n",
              "0       GP   F   18       U     GT3       A               higher education   \n",
              "1       GP   F   17       U     GT3       T  primary education (4th grade)   \n",
              "2       GP   F   15       U     LE3       T  primary education (4th grade)   \n",
              "3       GP   F   15       U     GT3       T               higher education   \n",
              "4       GP   F   16       U     GT3       T            secondary education   \n",
              "..     ...  ..  ...     ...     ...     ...                            ...   \n",
              "390     MS   M   20       U     LE3       A               5th to 9th grade   \n",
              "391     MS   M   17       U     LE3       T            secondary education   \n",
              "392     MS   M   21       R     GT3       T  primary education (4th grade)   \n",
              "393     MS   M   18       R     LE3       T            secondary education   \n",
              "394     MS   M   19       U     LE3       T  primary education (4th grade)   \n",
              "\n",
              "                              Fedu      Mjob      Fjob  ...     famrel  \\\n",
              "0                 higher education   at_home   teacher  ...  very good   \n",
              "1    primary education (4th grade)   at_home     other  ...  excellent   \n",
              "2    primary education (4th grade)   at_home     other  ...  very good   \n",
              "3                 5th to 9th grade    health  services  ...       good   \n",
              "4              secondary education     other     other  ...  very good   \n",
              "..                             ...       ...       ...  ...        ...   \n",
              "390               5th to 9th grade  services  services  ...  excellent   \n",
              "391  primary education (4th grade)  services  services  ...        bad   \n",
              "392  primary education (4th grade)     other     other  ...  excellent   \n",
              "393               5th to 9th grade  services     other  ...  very good   \n",
              "394  primary education (4th grade)     other   at_home  ...       good   \n",
              "\n",
              "      freetime      goout      Dalc       Walc     health absences  G1  G2  G3  \n",
              "0       medium       high  very low   very low       good        6   5   6   6  \n",
              "1       medium     medium  very low   very low       good        4   5   5   6  \n",
              "2       medium        low       low     medium       good       10   7   8  10  \n",
              "3          low        low  very low   very low  excellent        2  15  14  15  \n",
              "4       medium        low  very low        low  excellent        4   6  10  10  \n",
              "..         ...        ...       ...        ...        ...      ...  ..  ..  ..  \n",
              "390  very high       high      high  very high  very good       11   9   9   9  \n",
              "391       high  very high    medium       high        bad        3  14  16  16  \n",
              "392  very high     medium    medium     medium       good        3  10   8   7  \n",
              "393       high   very low    medium       high  excellent        0  11  12  10  \n",
              "394        low     medium    medium     medium  excellent        5   8   9   9  \n",
              "\n",
              "[395 rows x 33 columns]"
            ],
            "text/html": [
              "\n",
              "  <div id=\"df-00be00c5-b682-466e-973c-c0b6ef8340fd\">\n",
              "    <div class=\"colab-df-container\">\n",
              "      <div>\n",
              "<style scoped>\n",
              "    .dataframe tbody tr th:only-of-type {\n",
              "        vertical-align: middle;\n",
              "    }\n",
              "\n",
              "    .dataframe tbody tr th {\n",
              "        vertical-align: top;\n",
              "    }\n",
              "\n",
              "    .dataframe thead th {\n",
              "        text-align: right;\n",
              "    }\n",
              "</style>\n",
              "<table border=\"1\" class=\"dataframe\">\n",
              "  <thead>\n",
              "    <tr style=\"text-align: right;\">\n",
              "      <th></th>\n",
              "      <th>school</th>\n",
              "      <th>sex</th>\n",
              "      <th>age</th>\n",
              "      <th>address</th>\n",
              "      <th>famsize</th>\n",
              "      <th>Pstatus</th>\n",
              "      <th>Medu</th>\n",
              "      <th>Fedu</th>\n",
              "      <th>Mjob</th>\n",
              "      <th>Fjob</th>\n",
              "      <th>...</th>\n",
              "      <th>famrel</th>\n",
              "      <th>freetime</th>\n",
              "      <th>goout</th>\n",
              "      <th>Dalc</th>\n",
              "      <th>Walc</th>\n",
              "      <th>health</th>\n",
              "      <th>absences</th>\n",
              "      <th>G1</th>\n",
              "      <th>G2</th>\n",
              "      <th>G3</th>\n",
              "    </tr>\n",
              "  </thead>\n",
              "  <tbody>\n",
              "    <tr>\n",
              "      <th>0</th>\n",
              "      <td>GP</td>\n",
              "      <td>F</td>\n",
              "      <td>18</td>\n",
              "      <td>U</td>\n",
              "      <td>GT3</td>\n",
              "      <td>A</td>\n",
              "      <td>higher education</td>\n",
              "      <td>higher education</td>\n",
              "      <td>at_home</td>\n",
              "      <td>teacher</td>\n",
              "      <td>...</td>\n",
              "      <td>very good</td>\n",
              "      <td>medium</td>\n",
              "      <td>high</td>\n",
              "      <td>very low</td>\n",
              "      <td>very low</td>\n",
              "      <td>good</td>\n",
              "      <td>6</td>\n",
              "      <td>5</td>\n",
              "      <td>6</td>\n",
              "      <td>6</td>\n",
              "    </tr>\n",
              "    <tr>\n",
              "      <th>1</th>\n",
              "      <td>GP</td>\n",
              "      <td>F</td>\n",
              "      <td>17</td>\n",
              "      <td>U</td>\n",
              "      <td>GT3</td>\n",
              "      <td>T</td>\n",
              "      <td>primary education (4th grade)</td>\n",
              "      <td>primary education (4th grade)</td>\n",
              "      <td>at_home</td>\n",
              "      <td>other</td>\n",
              "      <td>...</td>\n",
              "      <td>excellent</td>\n",
              "      <td>medium</td>\n",
              "      <td>medium</td>\n",
              "      <td>very low</td>\n",
              "      <td>very low</td>\n",
              "      <td>good</td>\n",
              "      <td>4</td>\n",
              "      <td>5</td>\n",
              "      <td>5</td>\n",
              "      <td>6</td>\n",
              "    </tr>\n",
              "    <tr>\n",
              "      <th>2</th>\n",
              "      <td>GP</td>\n",
              "      <td>F</td>\n",
              "      <td>15</td>\n",
              "      <td>U</td>\n",
              "      <td>LE3</td>\n",
              "      <td>T</td>\n",
              "      <td>primary education (4th grade)</td>\n",
              "      <td>primary education (4th grade)</td>\n",
              "      <td>at_home</td>\n",
              "      <td>other</td>\n",
              "      <td>...</td>\n",
              "      <td>very good</td>\n",
              "      <td>medium</td>\n",
              "      <td>low</td>\n",
              "      <td>low</td>\n",
              "      <td>medium</td>\n",
              "      <td>good</td>\n",
              "      <td>10</td>\n",
              "      <td>7</td>\n",
              "      <td>8</td>\n",
              "      <td>10</td>\n",
              "    </tr>\n",
              "    <tr>\n",
              "      <th>3</th>\n",
              "      <td>GP</td>\n",
              "      <td>F</td>\n",
              "      <td>15</td>\n",
              "      <td>U</td>\n",
              "      <td>GT3</td>\n",
              "      <td>T</td>\n",
              "      <td>higher education</td>\n",
              "      <td>5th to 9th grade</td>\n",
              "      <td>health</td>\n",
              "      <td>services</td>\n",
              "      <td>...</td>\n",
              "      <td>good</td>\n",
              "      <td>low</td>\n",
              "      <td>low</td>\n",
              "      <td>very low</td>\n",
              "      <td>very low</td>\n",
              "      <td>excellent</td>\n",
              "      <td>2</td>\n",
              "      <td>15</td>\n",
              "      <td>14</td>\n",
              "      <td>15</td>\n",
              "    </tr>\n",
              "    <tr>\n",
              "      <th>4</th>\n",
              "      <td>GP</td>\n",
              "      <td>F</td>\n",
              "      <td>16</td>\n",
              "      <td>U</td>\n",
              "      <td>GT3</td>\n",
              "      <td>T</td>\n",
              "      <td>secondary education</td>\n",
              "      <td>secondary education</td>\n",
              "      <td>other</td>\n",
              "      <td>other</td>\n",
              "      <td>...</td>\n",
              "      <td>very good</td>\n",
              "      <td>medium</td>\n",
              "      <td>low</td>\n",
              "      <td>very low</td>\n",
              "      <td>low</td>\n",
              "      <td>excellent</td>\n",
              "      <td>4</td>\n",
              "      <td>6</td>\n",
              "      <td>10</td>\n",
              "      <td>10</td>\n",
              "    </tr>\n",
              "    <tr>\n",
              "      <th>...</th>\n",
              "      <td>...</td>\n",
              "      <td>...</td>\n",
              "      <td>...</td>\n",
              "      <td>...</td>\n",
              "      <td>...</td>\n",
              "      <td>...</td>\n",
              "      <td>...</td>\n",
              "      <td>...</td>\n",
              "      <td>...</td>\n",
              "      <td>...</td>\n",
              "      <td>...</td>\n",
              "      <td>...</td>\n",
              "      <td>...</td>\n",
              "      <td>...</td>\n",
              "      <td>...</td>\n",
              "      <td>...</td>\n",
              "      <td>...</td>\n",
              "      <td>...</td>\n",
              "      <td>...</td>\n",
              "      <td>...</td>\n",
              "      <td>...</td>\n",
              "    </tr>\n",
              "    <tr>\n",
              "      <th>390</th>\n",
              "      <td>MS</td>\n",
              "      <td>M</td>\n",
              "      <td>20</td>\n",
              "      <td>U</td>\n",
              "      <td>LE3</td>\n",
              "      <td>A</td>\n",
              "      <td>5th to 9th grade</td>\n",
              "      <td>5th to 9th grade</td>\n",
              "      <td>services</td>\n",
              "      <td>services</td>\n",
              "      <td>...</td>\n",
              "      <td>excellent</td>\n",
              "      <td>very high</td>\n",
              "      <td>high</td>\n",
              "      <td>high</td>\n",
              "      <td>very high</td>\n",
              "      <td>very good</td>\n",
              "      <td>11</td>\n",
              "      <td>9</td>\n",
              "      <td>9</td>\n",
              "      <td>9</td>\n",
              "    </tr>\n",
              "    <tr>\n",
              "      <th>391</th>\n",
              "      <td>MS</td>\n",
              "      <td>M</td>\n",
              "      <td>17</td>\n",
              "      <td>U</td>\n",
              "      <td>LE3</td>\n",
              "      <td>T</td>\n",
              "      <td>secondary education</td>\n",
              "      <td>primary education (4th grade)</td>\n",
              "      <td>services</td>\n",
              "      <td>services</td>\n",
              "      <td>...</td>\n",
              "      <td>bad</td>\n",
              "      <td>high</td>\n",
              "      <td>very high</td>\n",
              "      <td>medium</td>\n",
              "      <td>high</td>\n",
              "      <td>bad</td>\n",
              "      <td>3</td>\n",
              "      <td>14</td>\n",
              "      <td>16</td>\n",
              "      <td>16</td>\n",
              "    </tr>\n",
              "    <tr>\n",
              "      <th>392</th>\n",
              "      <td>MS</td>\n",
              "      <td>M</td>\n",
              "      <td>21</td>\n",
              "      <td>R</td>\n",
              "      <td>GT3</td>\n",
              "      <td>T</td>\n",
              "      <td>primary education (4th grade)</td>\n",
              "      <td>primary education (4th grade)</td>\n",
              "      <td>other</td>\n",
              "      <td>other</td>\n",
              "      <td>...</td>\n",
              "      <td>excellent</td>\n",
              "      <td>very high</td>\n",
              "      <td>medium</td>\n",
              "      <td>medium</td>\n",
              "      <td>medium</td>\n",
              "      <td>good</td>\n",
              "      <td>3</td>\n",
              "      <td>10</td>\n",
              "      <td>8</td>\n",
              "      <td>7</td>\n",
              "    </tr>\n",
              "    <tr>\n",
              "      <th>393</th>\n",
              "      <td>MS</td>\n",
              "      <td>M</td>\n",
              "      <td>18</td>\n",
              "      <td>R</td>\n",
              "      <td>LE3</td>\n",
              "      <td>T</td>\n",
              "      <td>secondary education</td>\n",
              "      <td>5th to 9th grade</td>\n",
              "      <td>services</td>\n",
              "      <td>other</td>\n",
              "      <td>...</td>\n",
              "      <td>very good</td>\n",
              "      <td>high</td>\n",
              "      <td>very low</td>\n",
              "      <td>medium</td>\n",
              "      <td>high</td>\n",
              "      <td>excellent</td>\n",
              "      <td>0</td>\n",
              "      <td>11</td>\n",
              "      <td>12</td>\n",
              "      <td>10</td>\n",
              "    </tr>\n",
              "    <tr>\n",
              "      <th>394</th>\n",
              "      <td>MS</td>\n",
              "      <td>M</td>\n",
              "      <td>19</td>\n",
              "      <td>U</td>\n",
              "      <td>LE3</td>\n",
              "      <td>T</td>\n",
              "      <td>primary education (4th grade)</td>\n",
              "      <td>primary education (4th grade)</td>\n",
              "      <td>other</td>\n",
              "      <td>at_home</td>\n",
              "      <td>...</td>\n",
              "      <td>good</td>\n",
              "      <td>low</td>\n",
              "      <td>medium</td>\n",
              "      <td>medium</td>\n",
              "      <td>medium</td>\n",
              "      <td>excellent</td>\n",
              "      <td>5</td>\n",
              "      <td>8</td>\n",
              "      <td>9</td>\n",
              "      <td>9</td>\n",
              "    </tr>\n",
              "  </tbody>\n",
              "</table>\n",
              "<p>395 rows × 33 columns</p>\n",
              "</div>\n",
              "      <button class=\"colab-df-convert\" onclick=\"convertToInteractive('df-00be00c5-b682-466e-973c-c0b6ef8340fd')\"\n",
              "              title=\"Convert this dataframe to an interactive table.\"\n",
              "              style=\"display:none;\">\n",
              "        \n",
              "  <svg xmlns=\"http://www.w3.org/2000/svg\" height=\"24px\"viewBox=\"0 0 24 24\"\n",
              "       width=\"24px\">\n",
              "    <path d=\"M0 0h24v24H0V0z\" fill=\"none\"/>\n",
              "    <path d=\"M18.56 5.44l.94 2.06.94-2.06 2.06-.94-2.06-.94-.94-2.06-.94 2.06-2.06.94zm-11 1L8.5 8.5l.94-2.06 2.06-.94-2.06-.94L8.5 2.5l-.94 2.06-2.06.94zm10 10l.94 2.06.94-2.06 2.06-.94-2.06-.94-.94-2.06-.94 2.06-2.06.94z\"/><path d=\"M17.41 7.96l-1.37-1.37c-.4-.4-.92-.59-1.43-.59-.52 0-1.04.2-1.43.59L10.3 9.45l-7.72 7.72c-.78.78-.78 2.05 0 2.83L4 21.41c.39.39.9.59 1.41.59.51 0 1.02-.2 1.41-.59l7.78-7.78 2.81-2.81c.8-.78.8-2.07 0-2.86zM5.41 20L4 18.59l7.72-7.72 1.47 1.35L5.41 20z\"/>\n",
              "  </svg>\n",
              "      </button>\n",
              "      \n",
              "  <style>\n",
              "    .colab-df-container {\n",
              "      display:flex;\n",
              "      flex-wrap:wrap;\n",
              "      gap: 12px;\n",
              "    }\n",
              "\n",
              "    .colab-df-convert {\n",
              "      background-color: #E8F0FE;\n",
              "      border: none;\n",
              "      border-radius: 50%;\n",
              "      cursor: pointer;\n",
              "      display: none;\n",
              "      fill: #1967D2;\n",
              "      height: 32px;\n",
              "      padding: 0 0 0 0;\n",
              "      width: 32px;\n",
              "    }\n",
              "\n",
              "    .colab-df-convert:hover {\n",
              "      background-color: #E2EBFA;\n",
              "      box-shadow: 0px 1px 2px rgba(60, 64, 67, 0.3), 0px 1px 3px 1px rgba(60, 64, 67, 0.15);\n",
              "      fill: #174EA6;\n",
              "    }\n",
              "\n",
              "    [theme=dark] .colab-df-convert {\n",
              "      background-color: #3B4455;\n",
              "      fill: #D2E3FC;\n",
              "    }\n",
              "\n",
              "    [theme=dark] .colab-df-convert:hover {\n",
              "      background-color: #434B5C;\n",
              "      box-shadow: 0px 1px 3px 1px rgba(0, 0, 0, 0.15);\n",
              "      filter: drop-shadow(0px 1px 2px rgba(0, 0, 0, 0.3));\n",
              "      fill: #FFFFFF;\n",
              "    }\n",
              "  </style>\n",
              "\n",
              "      <script>\n",
              "        const buttonEl =\n",
              "          document.querySelector('#df-00be00c5-b682-466e-973c-c0b6ef8340fd button.colab-df-convert');\n",
              "        buttonEl.style.display =\n",
              "          google.colab.kernel.accessAllowed ? 'block' : 'none';\n",
              "\n",
              "        async function convertToInteractive(key) {\n",
              "          const element = document.querySelector('#df-00be00c5-b682-466e-973c-c0b6ef8340fd');\n",
              "          const dataTable =\n",
              "            await google.colab.kernel.invokeFunction('convertToInteractive',\n",
              "                                                     [key], {});\n",
              "          if (!dataTable) return;\n",
              "\n",
              "          const docLinkHtml = 'Like what you see? Visit the ' +\n",
              "            '<a target=\"_blank\" href=https://colab.research.google.com/notebooks/data_table.ipynb>data table notebook</a>'\n",
              "            + ' to learn more about interactive tables.';\n",
              "          element.innerHTML = '';\n",
              "          dataTable['output_type'] = 'display_data';\n",
              "          await google.colab.output.renderOutput(dataTable, element);\n",
              "          const docLink = document.createElement('div');\n",
              "          docLink.innerHTML = docLinkHtml;\n",
              "          element.appendChild(docLink);\n",
              "        }\n",
              "      </script>\n",
              "    </div>\n",
              "  </div>\n",
              "  "
            ]
          },
          "metadata": {},
          "execution_count": 53
        }
      ]
    },
    {
      "cell_type": "markdown",
      "source": [
        "2. Once you make your initial observation, please explain why do you think the data was collected, what\n",
        "kind of information you can extract from the dataset. Please write your answer in text cell of the Jupyter\n",
        "Notebook."
      ],
      "metadata": {
        "id": "fHucc8C8G8eE"
      }
    },
    {
      "cell_type": "markdown",
      "source": [
        "**Answer:**\n",
        "\n",
        "\n",
        "The provided data depicts the information of students of two Portuguese schools named \"Gabriel Pereira\" and \"Mousinho da Silveira\". This data is primarily used to evaluate student performance with respect to variables such as  the status of parents , education of parents, study time, activities, and other factors.\n",
        "\n",
        "\n",
        "\n",
        "The given data can be used to statistically analyze to identify the variables influencing student outcomes. For instance, we can look at the academic standing of students with respect to their parents job, absence and so on.  Likewise, we can examine schools in which the majority of students receive higher grades.  Correspondingly, we can look up a student's average study time and the class with the highest grade.\n",
        "\n",
        "By analyzing the above data, we will gain a deeper understanding of the various capabilities of Python libraries. Additionally, we will learn how to manipulate and analyze data using Python."
      ],
      "metadata": {
        "id": "bzaH7Ob0fg38"
      }
    },
    {
      "cell_type": "code",
      "source": [
        "coursework.info()"
      ],
      "metadata": {
        "id": "V96Y5NrbG8Hc",
        "colab": {
          "base_uri": "https://localhost:8080/"
        },
        "outputId": "092ae20f-8558-4c30-e1b4-c3140288fa29"
      },
      "execution_count": null,
      "outputs": [
        {
          "output_type": "stream",
          "name": "stdout",
          "text": [
            "<class 'pandas.core.frame.DataFrame'>\n",
            "RangeIndex: 395 entries, 0 to 394\n",
            "Data columns (total 33 columns):\n",
            " #   Column      Non-Null Count  Dtype \n",
            "---  ------      --------------  ----- \n",
            " 0   school      395 non-null    object\n",
            " 1   sex         395 non-null    object\n",
            " 2   age         395 non-null    int64 \n",
            " 3   address     395 non-null    object\n",
            " 4   famsize     395 non-null    object\n",
            " 5   Pstatus     395 non-null    object\n",
            " 6   Medu        395 non-null    object\n",
            " 7   Fedu        395 non-null    object\n",
            " 8   Mjob        395 non-null    object\n",
            " 9   Fjob        395 non-null    object\n",
            " 10  reason      395 non-null    object\n",
            " 11  guardian    395 non-null    object\n",
            " 12  traveltime  395 non-null    object\n",
            " 13  studytime   395 non-null    object\n",
            " 14  failures    395 non-null    int64 \n",
            " 15  schoolsup   395 non-null    object\n",
            " 16  famsup      395 non-null    object\n",
            " 17  paid        395 non-null    object\n",
            " 18  activities  395 non-null    object\n",
            " 19  nursery     395 non-null    object\n",
            " 20  higher      395 non-null    object\n",
            " 21  internet    395 non-null    object\n",
            " 22  romantic    395 non-null    object\n",
            " 23  famrel      395 non-null    object\n",
            " 24  freetime    395 non-null    object\n",
            " 25  goout       395 non-null    object\n",
            " 26  Dalc        395 non-null    object\n",
            " 27  Walc        395 non-null    object\n",
            " 28  health      395 non-null    object\n",
            " 29  absences    395 non-null    int64 \n",
            " 30  G1          395 non-null    int64 \n",
            " 31  G2          395 non-null    int64 \n",
            " 32  G3          395 non-null    int64 \n",
            "dtypes: int64(6), object(27)\n",
            "memory usage: 102.0+ KB\n"
          ]
        }
      ]
    },
    {
      "cell_type": "markdown",
      "source": [
        "3. Check for null values and datatypes for all the columns present in the dataset."
      ],
      "metadata": {
        "id": "2LvHfjnzHSX9"
      }
    },
    {
      "cell_type": "code",
      "source": [
        "coursework.isnull()"
      ],
      "metadata": {
        "id": "-uqSsQiUHWhx",
        "colab": {
          "base_uri": "https://localhost:8080/",
          "height": 424
        },
        "outputId": "be0a937e-c19a-44b2-e423-2ed7f03c6d30"
      },
      "execution_count": null,
      "outputs": [
        {
          "output_type": "execute_result",
          "data": {
            "text/plain": [
              "     school    sex    age  address  famsize  Pstatus   Medu   Fedu   Mjob  \\\n",
              "0     False  False  False    False    False    False  False  False  False   \n",
              "1     False  False  False    False    False    False  False  False  False   \n",
              "2     False  False  False    False    False    False  False  False  False   \n",
              "3     False  False  False    False    False    False  False  False  False   \n",
              "4     False  False  False    False    False    False  False  False  False   \n",
              "..      ...    ...    ...      ...      ...      ...    ...    ...    ...   \n",
              "390   False  False  False    False    False    False  False  False  False   \n",
              "391   False  False  False    False    False    False  False  False  False   \n",
              "392   False  False  False    False    False    False  False  False  False   \n",
              "393   False  False  False    False    False    False  False  False  False   \n",
              "394   False  False  False    False    False    False  False  False  False   \n",
              "\n",
              "      Fjob  ...  famrel  freetime  goout   Dalc   Walc  health  absences  \\\n",
              "0    False  ...   False     False  False  False  False   False     False   \n",
              "1    False  ...   False     False  False  False  False   False     False   \n",
              "2    False  ...   False     False  False  False  False   False     False   \n",
              "3    False  ...   False     False  False  False  False   False     False   \n",
              "4    False  ...   False     False  False  False  False   False     False   \n",
              "..     ...  ...     ...       ...    ...    ...    ...     ...       ...   \n",
              "390  False  ...   False     False  False  False  False   False     False   \n",
              "391  False  ...   False     False  False  False  False   False     False   \n",
              "392  False  ...   False     False  False  False  False   False     False   \n",
              "393  False  ...   False     False  False  False  False   False     False   \n",
              "394  False  ...   False     False  False  False  False   False     False   \n",
              "\n",
              "        G1     G2     G3  \n",
              "0    False  False  False  \n",
              "1    False  False  False  \n",
              "2    False  False  False  \n",
              "3    False  False  False  \n",
              "4    False  False  False  \n",
              "..     ...    ...    ...  \n",
              "390  False  False  False  \n",
              "391  False  False  False  \n",
              "392  False  False  False  \n",
              "393  False  False  False  \n",
              "394  False  False  False  \n",
              "\n",
              "[395 rows x 33 columns]"
            ],
            "text/html": [
              "\n",
              "  <div id=\"df-5b6f02a8-0638-44f6-a057-8ddc936caa4f\">\n",
              "    <div class=\"colab-df-container\">\n",
              "      <div>\n",
              "<style scoped>\n",
              "    .dataframe tbody tr th:only-of-type {\n",
              "        vertical-align: middle;\n",
              "    }\n",
              "\n",
              "    .dataframe tbody tr th {\n",
              "        vertical-align: top;\n",
              "    }\n",
              "\n",
              "    .dataframe thead th {\n",
              "        text-align: right;\n",
              "    }\n",
              "</style>\n",
              "<table border=\"1\" class=\"dataframe\">\n",
              "  <thead>\n",
              "    <tr style=\"text-align: right;\">\n",
              "      <th></th>\n",
              "      <th>school</th>\n",
              "      <th>sex</th>\n",
              "      <th>age</th>\n",
              "      <th>address</th>\n",
              "      <th>famsize</th>\n",
              "      <th>Pstatus</th>\n",
              "      <th>Medu</th>\n",
              "      <th>Fedu</th>\n",
              "      <th>Mjob</th>\n",
              "      <th>Fjob</th>\n",
              "      <th>...</th>\n",
              "      <th>famrel</th>\n",
              "      <th>freetime</th>\n",
              "      <th>goout</th>\n",
              "      <th>Dalc</th>\n",
              "      <th>Walc</th>\n",
              "      <th>health</th>\n",
              "      <th>absences</th>\n",
              "      <th>G1</th>\n",
              "      <th>G2</th>\n",
              "      <th>G3</th>\n",
              "    </tr>\n",
              "  </thead>\n",
              "  <tbody>\n",
              "    <tr>\n",
              "      <th>0</th>\n",
              "      <td>False</td>\n",
              "      <td>False</td>\n",
              "      <td>False</td>\n",
              "      <td>False</td>\n",
              "      <td>False</td>\n",
              "      <td>False</td>\n",
              "      <td>False</td>\n",
              "      <td>False</td>\n",
              "      <td>False</td>\n",
              "      <td>False</td>\n",
              "      <td>...</td>\n",
              "      <td>False</td>\n",
              "      <td>False</td>\n",
              "      <td>False</td>\n",
              "      <td>False</td>\n",
              "      <td>False</td>\n",
              "      <td>False</td>\n",
              "      <td>False</td>\n",
              "      <td>False</td>\n",
              "      <td>False</td>\n",
              "      <td>False</td>\n",
              "    </tr>\n",
              "    <tr>\n",
              "      <th>1</th>\n",
              "      <td>False</td>\n",
              "      <td>False</td>\n",
              "      <td>False</td>\n",
              "      <td>False</td>\n",
              "      <td>False</td>\n",
              "      <td>False</td>\n",
              "      <td>False</td>\n",
              "      <td>False</td>\n",
              "      <td>False</td>\n",
              "      <td>False</td>\n",
              "      <td>...</td>\n",
              "      <td>False</td>\n",
              "      <td>False</td>\n",
              "      <td>False</td>\n",
              "      <td>False</td>\n",
              "      <td>False</td>\n",
              "      <td>False</td>\n",
              "      <td>False</td>\n",
              "      <td>False</td>\n",
              "      <td>False</td>\n",
              "      <td>False</td>\n",
              "    </tr>\n",
              "    <tr>\n",
              "      <th>2</th>\n",
              "      <td>False</td>\n",
              "      <td>False</td>\n",
              "      <td>False</td>\n",
              "      <td>False</td>\n",
              "      <td>False</td>\n",
              "      <td>False</td>\n",
              "      <td>False</td>\n",
              "      <td>False</td>\n",
              "      <td>False</td>\n",
              "      <td>False</td>\n",
              "      <td>...</td>\n",
              "      <td>False</td>\n",
              "      <td>False</td>\n",
              "      <td>False</td>\n",
              "      <td>False</td>\n",
              "      <td>False</td>\n",
              "      <td>False</td>\n",
              "      <td>False</td>\n",
              "      <td>False</td>\n",
              "      <td>False</td>\n",
              "      <td>False</td>\n",
              "    </tr>\n",
              "    <tr>\n",
              "      <th>3</th>\n",
              "      <td>False</td>\n",
              "      <td>False</td>\n",
              "      <td>False</td>\n",
              "      <td>False</td>\n",
              "      <td>False</td>\n",
              "      <td>False</td>\n",
              "      <td>False</td>\n",
              "      <td>False</td>\n",
              "      <td>False</td>\n",
              "      <td>False</td>\n",
              "      <td>...</td>\n",
              "      <td>False</td>\n",
              "      <td>False</td>\n",
              "      <td>False</td>\n",
              "      <td>False</td>\n",
              "      <td>False</td>\n",
              "      <td>False</td>\n",
              "      <td>False</td>\n",
              "      <td>False</td>\n",
              "      <td>False</td>\n",
              "      <td>False</td>\n",
              "    </tr>\n",
              "    <tr>\n",
              "      <th>4</th>\n",
              "      <td>False</td>\n",
              "      <td>False</td>\n",
              "      <td>False</td>\n",
              "      <td>False</td>\n",
              "      <td>False</td>\n",
              "      <td>False</td>\n",
              "      <td>False</td>\n",
              "      <td>False</td>\n",
              "      <td>False</td>\n",
              "      <td>False</td>\n",
              "      <td>...</td>\n",
              "      <td>False</td>\n",
              "      <td>False</td>\n",
              "      <td>False</td>\n",
              "      <td>False</td>\n",
              "      <td>False</td>\n",
              "      <td>False</td>\n",
              "      <td>False</td>\n",
              "      <td>False</td>\n",
              "      <td>False</td>\n",
              "      <td>False</td>\n",
              "    </tr>\n",
              "    <tr>\n",
              "      <th>...</th>\n",
              "      <td>...</td>\n",
              "      <td>...</td>\n",
              "      <td>...</td>\n",
              "      <td>...</td>\n",
              "      <td>...</td>\n",
              "      <td>...</td>\n",
              "      <td>...</td>\n",
              "      <td>...</td>\n",
              "      <td>...</td>\n",
              "      <td>...</td>\n",
              "      <td>...</td>\n",
              "      <td>...</td>\n",
              "      <td>...</td>\n",
              "      <td>...</td>\n",
              "      <td>...</td>\n",
              "      <td>...</td>\n",
              "      <td>...</td>\n",
              "      <td>...</td>\n",
              "      <td>...</td>\n",
              "      <td>...</td>\n",
              "      <td>...</td>\n",
              "    </tr>\n",
              "    <tr>\n",
              "      <th>390</th>\n",
              "      <td>False</td>\n",
              "      <td>False</td>\n",
              "      <td>False</td>\n",
              "      <td>False</td>\n",
              "      <td>False</td>\n",
              "      <td>False</td>\n",
              "      <td>False</td>\n",
              "      <td>False</td>\n",
              "      <td>False</td>\n",
              "      <td>False</td>\n",
              "      <td>...</td>\n",
              "      <td>False</td>\n",
              "      <td>False</td>\n",
              "      <td>False</td>\n",
              "      <td>False</td>\n",
              "      <td>False</td>\n",
              "      <td>False</td>\n",
              "      <td>False</td>\n",
              "      <td>False</td>\n",
              "      <td>False</td>\n",
              "      <td>False</td>\n",
              "    </tr>\n",
              "    <tr>\n",
              "      <th>391</th>\n",
              "      <td>False</td>\n",
              "      <td>False</td>\n",
              "      <td>False</td>\n",
              "      <td>False</td>\n",
              "      <td>False</td>\n",
              "      <td>False</td>\n",
              "      <td>False</td>\n",
              "      <td>False</td>\n",
              "      <td>False</td>\n",
              "      <td>False</td>\n",
              "      <td>...</td>\n",
              "      <td>False</td>\n",
              "      <td>False</td>\n",
              "      <td>False</td>\n",
              "      <td>False</td>\n",
              "      <td>False</td>\n",
              "      <td>False</td>\n",
              "      <td>False</td>\n",
              "      <td>False</td>\n",
              "      <td>False</td>\n",
              "      <td>False</td>\n",
              "    </tr>\n",
              "    <tr>\n",
              "      <th>392</th>\n",
              "      <td>False</td>\n",
              "      <td>False</td>\n",
              "      <td>False</td>\n",
              "      <td>False</td>\n",
              "      <td>False</td>\n",
              "      <td>False</td>\n",
              "      <td>False</td>\n",
              "      <td>False</td>\n",
              "      <td>False</td>\n",
              "      <td>False</td>\n",
              "      <td>...</td>\n",
              "      <td>False</td>\n",
              "      <td>False</td>\n",
              "      <td>False</td>\n",
              "      <td>False</td>\n",
              "      <td>False</td>\n",
              "      <td>False</td>\n",
              "      <td>False</td>\n",
              "      <td>False</td>\n",
              "      <td>False</td>\n",
              "      <td>False</td>\n",
              "    </tr>\n",
              "    <tr>\n",
              "      <th>393</th>\n",
              "      <td>False</td>\n",
              "      <td>False</td>\n",
              "      <td>False</td>\n",
              "      <td>False</td>\n",
              "      <td>False</td>\n",
              "      <td>False</td>\n",
              "      <td>False</td>\n",
              "      <td>False</td>\n",
              "      <td>False</td>\n",
              "      <td>False</td>\n",
              "      <td>...</td>\n",
              "      <td>False</td>\n",
              "      <td>False</td>\n",
              "      <td>False</td>\n",
              "      <td>False</td>\n",
              "      <td>False</td>\n",
              "      <td>False</td>\n",
              "      <td>False</td>\n",
              "      <td>False</td>\n",
              "      <td>False</td>\n",
              "      <td>False</td>\n",
              "    </tr>\n",
              "    <tr>\n",
              "      <th>394</th>\n",
              "      <td>False</td>\n",
              "      <td>False</td>\n",
              "      <td>False</td>\n",
              "      <td>False</td>\n",
              "      <td>False</td>\n",
              "      <td>False</td>\n",
              "      <td>False</td>\n",
              "      <td>False</td>\n",
              "      <td>False</td>\n",
              "      <td>False</td>\n",
              "      <td>...</td>\n",
              "      <td>False</td>\n",
              "      <td>False</td>\n",
              "      <td>False</td>\n",
              "      <td>False</td>\n",
              "      <td>False</td>\n",
              "      <td>False</td>\n",
              "      <td>False</td>\n",
              "      <td>False</td>\n",
              "      <td>False</td>\n",
              "      <td>False</td>\n",
              "    </tr>\n",
              "  </tbody>\n",
              "</table>\n",
              "<p>395 rows × 33 columns</p>\n",
              "</div>\n",
              "      <button class=\"colab-df-convert\" onclick=\"convertToInteractive('df-5b6f02a8-0638-44f6-a057-8ddc936caa4f')\"\n",
              "              title=\"Convert this dataframe to an interactive table.\"\n",
              "              style=\"display:none;\">\n",
              "        \n",
              "  <svg xmlns=\"http://www.w3.org/2000/svg\" height=\"24px\"viewBox=\"0 0 24 24\"\n",
              "       width=\"24px\">\n",
              "    <path d=\"M0 0h24v24H0V0z\" fill=\"none\"/>\n",
              "    <path d=\"M18.56 5.44l.94 2.06.94-2.06 2.06-.94-2.06-.94-.94-2.06-.94 2.06-2.06.94zm-11 1L8.5 8.5l.94-2.06 2.06-.94-2.06-.94L8.5 2.5l-.94 2.06-2.06.94zm10 10l.94 2.06.94-2.06 2.06-.94-2.06-.94-.94-2.06-.94 2.06-2.06.94z\"/><path d=\"M17.41 7.96l-1.37-1.37c-.4-.4-.92-.59-1.43-.59-.52 0-1.04.2-1.43.59L10.3 9.45l-7.72 7.72c-.78.78-.78 2.05 0 2.83L4 21.41c.39.39.9.59 1.41.59.51 0 1.02-.2 1.41-.59l7.78-7.78 2.81-2.81c.8-.78.8-2.07 0-2.86zM5.41 20L4 18.59l7.72-7.72 1.47 1.35L5.41 20z\"/>\n",
              "  </svg>\n",
              "      </button>\n",
              "      \n",
              "  <style>\n",
              "    .colab-df-container {\n",
              "      display:flex;\n",
              "      flex-wrap:wrap;\n",
              "      gap: 12px;\n",
              "    }\n",
              "\n",
              "    .colab-df-convert {\n",
              "      background-color: #E8F0FE;\n",
              "      border: none;\n",
              "      border-radius: 50%;\n",
              "      cursor: pointer;\n",
              "      display: none;\n",
              "      fill: #1967D2;\n",
              "      height: 32px;\n",
              "      padding: 0 0 0 0;\n",
              "      width: 32px;\n",
              "    }\n",
              "\n",
              "    .colab-df-convert:hover {\n",
              "      background-color: #E2EBFA;\n",
              "      box-shadow: 0px 1px 2px rgba(60, 64, 67, 0.3), 0px 1px 3px 1px rgba(60, 64, 67, 0.15);\n",
              "      fill: #174EA6;\n",
              "    }\n",
              "\n",
              "    [theme=dark] .colab-df-convert {\n",
              "      background-color: #3B4455;\n",
              "      fill: #D2E3FC;\n",
              "    }\n",
              "\n",
              "    [theme=dark] .colab-df-convert:hover {\n",
              "      background-color: #434B5C;\n",
              "      box-shadow: 0px 1px 3px 1px rgba(0, 0, 0, 0.15);\n",
              "      filter: drop-shadow(0px 1px 2px rgba(0, 0, 0, 0.3));\n",
              "      fill: #FFFFFF;\n",
              "    }\n",
              "  </style>\n",
              "\n",
              "      <script>\n",
              "        const buttonEl =\n",
              "          document.querySelector('#df-5b6f02a8-0638-44f6-a057-8ddc936caa4f button.colab-df-convert');\n",
              "        buttonEl.style.display =\n",
              "          google.colab.kernel.accessAllowed ? 'block' : 'none';\n",
              "\n",
              "        async function convertToInteractive(key) {\n",
              "          const element = document.querySelector('#df-5b6f02a8-0638-44f6-a057-8ddc936caa4f');\n",
              "          const dataTable =\n",
              "            await google.colab.kernel.invokeFunction('convertToInteractive',\n",
              "                                                     [key], {});\n",
              "          if (!dataTable) return;\n",
              "\n",
              "          const docLinkHtml = 'Like what you see? Visit the ' +\n",
              "            '<a target=\"_blank\" href=https://colab.research.google.com/notebooks/data_table.ipynb>data table notebook</a>'\n",
              "            + ' to learn more about interactive tables.';\n",
              "          element.innerHTML = '';\n",
              "          dataTable['output_type'] = 'display_data';\n",
              "          await google.colab.output.renderOutput(dataTable, element);\n",
              "          const docLink = document.createElement('div');\n",
              "          docLink.innerHTML = docLinkHtml;\n",
              "          element.appendChild(docLink);\n",
              "        }\n",
              "      </script>\n",
              "    </div>\n",
              "  </div>\n",
              "  "
            ]
          },
          "metadata": {},
          "execution_count": 55
        }
      ]
    },
    {
      "cell_type": "markdown",
      "source": [
        "\n",
        "**Explaination:**\n",
        "\n",
        "Utilizing the isnull() function, it is possible to verify whether any of the columns in the dataset have null values. As an alternative to Null values, this function returns the Boolen value True. Returning False means that the value is not null. There are no null values in the given dataset. As a result, all values have been replaced with False.\n",
        "\n"
      ],
      "metadata": {
        "id": "skTFSz12goMd"
      }
    },
    {
      "cell_type": "code",
      "source": [
        "coursework.dtypes"
      ],
      "metadata": {
        "id": "x-R0V9ENHh8U",
        "colab": {
          "base_uri": "https://localhost:8080/"
        },
        "outputId": "4b4a636c-bddc-4644-c022-a7632e856cff"
      },
      "execution_count": null,
      "outputs": [
        {
          "output_type": "execute_result",
          "data": {
            "text/plain": [
              "school        object\n",
              "sex           object\n",
              "age            int64\n",
              "address       object\n",
              "famsize       object\n",
              "Pstatus       object\n",
              "Medu          object\n",
              "Fedu          object\n",
              "Mjob          object\n",
              "Fjob          object\n",
              "reason        object\n",
              "guardian      object\n",
              "traveltime    object\n",
              "studytime     object\n",
              "failures       int64\n",
              "schoolsup     object\n",
              "famsup        object\n",
              "paid          object\n",
              "activities    object\n",
              "nursery       object\n",
              "higher        object\n",
              "internet      object\n",
              "romantic      object\n",
              "famrel        object\n",
              "freetime      object\n",
              "goout         object\n",
              "Dalc          object\n",
              "Walc          object\n",
              "health        object\n",
              "absences       int64\n",
              "G1             int64\n",
              "G2             int64\n",
              "G3             int64\n",
              "dtype: object"
            ]
          },
          "metadata": {},
          "execution_count": 56
        }
      ]
    },
    {
      "cell_type": "markdown",
      "source": [
        "**Explaination:**\n",
        "\n",
        "We use the dtype function to verify the datatype of every column. It showcases the type of data that a column incorporates. A column will return int64 if it has an integer datatype."
      ],
      "metadata": {
        "id": "GJiklKEAHcFV"
      }
    },
    {
      "cell_type": "markdown",
      "source": [
        "**Data Transformation:**\n",
        "\n",
        "\n",
        "\n",
        "\n",
        "Write code to transform variables according to the following instructions:\n",
        "\n",
        "1. ”School”, ”sex”, ”address”, ”schoolsup”, ”famsup”, ”activites”, ”nursery”, ”internet”, and ”romantic”\n",
        "into binary: 0 or 1 (create new columns without overwriting the existing ones)."
      ],
      "metadata": {
        "id": "cuGpaIllHq3M"
      }
    },
    {
      "cell_type": "code",
      "source": [
        "coursework['school'].unique()"
      ],
      "metadata": {
        "id": "Jnhlo_cVH4om",
        "colab": {
          "base_uri": "https://localhost:8080/"
        },
        "outputId": "425fb2de-a899-4866-a54e-7d2a772cf7ec"
      },
      "execution_count": null,
      "outputs": [
        {
          "output_type": "execute_result",
          "data": {
            "text/plain": [
              "array(['GP', 'MS'], dtype=object)"
            ]
          },
          "metadata": {},
          "execution_count": 57
        }
      ]
    },
    {
      "cell_type": "code",
      "source": [
        "coursework['school_binary'] = coursework['school'].map({\"GP\":0, \"MS\":1})"
      ],
      "metadata": {
        "id": "3VmkCCh8IBXV"
      },
      "execution_count": null,
      "outputs": []
    },
    {
      "cell_type": "code",
      "source": [
        "coursework['school_binary']"
      ],
      "metadata": {
        "id": "bJjUVZMWIvMW",
        "colab": {
          "base_uri": "https://localhost:8080/"
        },
        "outputId": "27b62fb6-ae72-448d-c375-5c836dbaeb40"
      },
      "execution_count": null,
      "outputs": [
        {
          "output_type": "execute_result",
          "data": {
            "text/plain": [
              "0      0\n",
              "1      0\n",
              "2      0\n",
              "3      0\n",
              "4      0\n",
              "      ..\n",
              "390    1\n",
              "391    1\n",
              "392    1\n",
              "393    1\n",
              "394    1\n",
              "Name: school_binary, Length: 395, dtype: int64"
            ]
          },
          "metadata": {},
          "execution_count": 59
        }
      ]
    },
    {
      "cell_type": "code",
      "source": [
        "coursework['sex'].unique()"
      ],
      "metadata": {
        "id": "93eJjc-FI71o",
        "colab": {
          "base_uri": "https://localhost:8080/"
        },
        "outputId": "0bfb7880-0c59-4417-8d5c-536936d705c2"
      },
      "execution_count": null,
      "outputs": [
        {
          "output_type": "execute_result",
          "data": {
            "text/plain": [
              "array(['F', 'M'], dtype=object)"
            ]
          },
          "metadata": {},
          "execution_count": 60
        }
      ]
    },
    {
      "cell_type": "code",
      "source": [
        "coursework['sex_binary'] = coursework['sex'].map({\"F\":0, \"M\":1})"
      ],
      "metadata": {
        "id": "BxiTVSL6JAr_"
      },
      "execution_count": null,
      "outputs": []
    },
    {
      "cell_type": "code",
      "source": [
        "coursework['sex_binary']"
      ],
      "metadata": {
        "id": "tLH45rH2JJsE",
        "colab": {
          "base_uri": "https://localhost:8080/"
        },
        "outputId": "0262b2fa-a694-4784-fab2-6b8ae8bc463c"
      },
      "execution_count": null,
      "outputs": [
        {
          "output_type": "execute_result",
          "data": {
            "text/plain": [
              "0      0\n",
              "1      0\n",
              "2      0\n",
              "3      0\n",
              "4      0\n",
              "      ..\n",
              "390    1\n",
              "391    1\n",
              "392    1\n",
              "393    1\n",
              "394    1\n",
              "Name: sex_binary, Length: 395, dtype: int64"
            ]
          },
          "metadata": {},
          "execution_count": 62
        }
      ]
    },
    {
      "cell_type": "code",
      "source": [
        "coursework['address'].unique()"
      ],
      "metadata": {
        "id": "WcOe_qWLmSXx",
        "colab": {
          "base_uri": "https://localhost:8080/"
        },
        "outputId": "3c899dbf-5f9f-4bc5-8e0b-e2191892141e"
      },
      "execution_count": null,
      "outputs": [
        {
          "output_type": "execute_result",
          "data": {
            "text/plain": [
              "array(['U', 'R'], dtype=object)"
            ]
          },
          "metadata": {},
          "execution_count": 63
        }
      ]
    },
    {
      "cell_type": "code",
      "source": [
        "coursework['address_binary'] = coursework['address'].map({\"U\":1, \"R\":0})"
      ],
      "metadata": {
        "id": "OxfEatGOnerW"
      },
      "execution_count": null,
      "outputs": []
    },
    {
      "cell_type": "code",
      "source": [
        "coursework['address_binary']"
      ],
      "metadata": {
        "id": "-A23LVoZnlG8",
        "colab": {
          "base_uri": "https://localhost:8080/"
        },
        "outputId": "e90e12b3-92b5-4387-d42b-24a36ac81bc7"
      },
      "execution_count": null,
      "outputs": [
        {
          "output_type": "execute_result",
          "data": {
            "text/plain": [
              "0      1\n",
              "1      1\n",
              "2      1\n",
              "3      1\n",
              "4      1\n",
              "      ..\n",
              "390    1\n",
              "391    1\n",
              "392    0\n",
              "393    0\n",
              "394    1\n",
              "Name: address_binary, Length: 395, dtype: int64"
            ]
          },
          "metadata": {},
          "execution_count": 65
        }
      ]
    },
    {
      "cell_type": "code",
      "source": [
        "coursework['schoolsup'].unique()"
      ],
      "metadata": {
        "id": "Zuy9A2XYnpjE",
        "colab": {
          "base_uri": "https://localhost:8080/"
        },
        "outputId": "e3211b06-2adf-454e-fddd-3bb7dcf41cf4"
      },
      "execution_count": null,
      "outputs": [
        {
          "output_type": "execute_result",
          "data": {
            "text/plain": [
              "array(['yes', 'no'], dtype=object)"
            ]
          },
          "metadata": {},
          "execution_count": 66
        }
      ]
    },
    {
      "cell_type": "code",
      "source": [
        "coursework['schoolsup_binary'] = coursework['schoolsup'].map({\"yes\":1, \"no\":0})"
      ],
      "metadata": {
        "id": "mDRuOLf4nwDt"
      },
      "execution_count": null,
      "outputs": []
    },
    {
      "cell_type": "code",
      "source": [
        "coursework['schoolsup_binary']"
      ],
      "metadata": {
        "id": "d1WbAVZqn3So",
        "colab": {
          "base_uri": "https://localhost:8080/"
        },
        "outputId": "088f9e44-f98e-4ff4-de33-8cb181d95e13"
      },
      "execution_count": null,
      "outputs": [
        {
          "output_type": "execute_result",
          "data": {
            "text/plain": [
              "0      1\n",
              "1      0\n",
              "2      1\n",
              "3      0\n",
              "4      0\n",
              "      ..\n",
              "390    0\n",
              "391    0\n",
              "392    0\n",
              "393    0\n",
              "394    0\n",
              "Name: schoolsup_binary, Length: 395, dtype: int64"
            ]
          },
          "metadata": {},
          "execution_count": 68
        }
      ]
    },
    {
      "cell_type": "code",
      "source": [
        "coursework['famsup'].unique()"
      ],
      "metadata": {
        "id": "m9eQF0oHn6gh",
        "colab": {
          "base_uri": "https://localhost:8080/"
        },
        "outputId": "b50570b1-bc90-4fcb-f6fa-5b822289ee88"
      },
      "execution_count": null,
      "outputs": [
        {
          "output_type": "execute_result",
          "data": {
            "text/plain": [
              "array(['no', 'yes'], dtype=object)"
            ]
          },
          "metadata": {},
          "execution_count": 69
        }
      ]
    },
    {
      "cell_type": "code",
      "source": [
        "coursework['famsup_binary'] = coursework['famsup'].map({\"no\":0, \"yes\":1})"
      ],
      "metadata": {
        "id": "_1O9J51NoR-R"
      },
      "execution_count": null,
      "outputs": []
    },
    {
      "cell_type": "code",
      "source": [
        "coursework['famsup_binary']"
      ],
      "metadata": {
        "id": "Et3LIdI8oaCg",
        "colab": {
          "base_uri": "https://localhost:8080/"
        },
        "outputId": "c3d964bd-9372-4f49-de71-f8975bd1bec0"
      },
      "execution_count": null,
      "outputs": [
        {
          "output_type": "execute_result",
          "data": {
            "text/plain": [
              "0      0\n",
              "1      1\n",
              "2      0\n",
              "3      1\n",
              "4      1\n",
              "      ..\n",
              "390    1\n",
              "391    0\n",
              "392    0\n",
              "393    0\n",
              "394    0\n",
              "Name: famsup_binary, Length: 395, dtype: int64"
            ]
          },
          "metadata": {},
          "execution_count": 71
        }
      ]
    },
    {
      "cell_type": "code",
      "source": [
        "coursework['activities'].unique()"
      ],
      "metadata": {
        "id": "m1cmnuQdocqE",
        "colab": {
          "base_uri": "https://localhost:8080/"
        },
        "outputId": "c76e915a-0b7d-4100-ed0e-416c298607cf"
      },
      "execution_count": null,
      "outputs": [
        {
          "output_type": "execute_result",
          "data": {
            "text/plain": [
              "array(['no', 'yes'], dtype=object)"
            ]
          },
          "metadata": {},
          "execution_count": 72
        }
      ]
    },
    {
      "cell_type": "code",
      "source": [
        "coursework['activities_binary'] = coursework['activities'].map({\"no\":0, \"yes\":1})"
      ],
      "metadata": {
        "id": "u4UQjibLomyq"
      },
      "execution_count": null,
      "outputs": []
    },
    {
      "cell_type": "code",
      "source": [
        "coursework['activities_binary']"
      ],
      "metadata": {
        "id": "ciajklJZouos",
        "colab": {
          "base_uri": "https://localhost:8080/"
        },
        "outputId": "34789fda-0e1b-4eb8-e17a-2cae2f320b43"
      },
      "execution_count": null,
      "outputs": [
        {
          "output_type": "execute_result",
          "data": {
            "text/plain": [
              "0      0\n",
              "1      0\n",
              "2      0\n",
              "3      1\n",
              "4      0\n",
              "      ..\n",
              "390    0\n",
              "391    0\n",
              "392    0\n",
              "393    0\n",
              "394    0\n",
              "Name: activities_binary, Length: 395, dtype: int64"
            ]
          },
          "metadata": {},
          "execution_count": 74
        }
      ]
    },
    {
      "cell_type": "code",
      "source": [
        "coursework['nursery'].unique()"
      ],
      "metadata": {
        "id": "pVY5k-vSoyHB",
        "colab": {
          "base_uri": "https://localhost:8080/"
        },
        "outputId": "7577d560-1cc1-4b03-95de-428e4acb76b2"
      },
      "execution_count": null,
      "outputs": [
        {
          "output_type": "execute_result",
          "data": {
            "text/plain": [
              "array(['yes', 'no'], dtype=object)"
            ]
          },
          "metadata": {},
          "execution_count": 75
        }
      ]
    },
    {
      "cell_type": "code",
      "source": [
        "coursework['nursery_binary'] = coursework['nursery'].map({\"yes\":1, \"no\":0})"
      ],
      "metadata": {
        "id": "Ejn7YnW2o7yj"
      },
      "execution_count": null,
      "outputs": []
    },
    {
      "cell_type": "code",
      "source": [
        "coursework['nursery_binary']"
      ],
      "metadata": {
        "id": "jTVIkrNhpFAh",
        "colab": {
          "base_uri": "https://localhost:8080/"
        },
        "outputId": "a4def58a-67bb-4451-d102-a8cb86b4f7ce"
      },
      "execution_count": null,
      "outputs": [
        {
          "output_type": "execute_result",
          "data": {
            "text/plain": [
              "0      1\n",
              "1      0\n",
              "2      1\n",
              "3      1\n",
              "4      1\n",
              "      ..\n",
              "390    1\n",
              "391    0\n",
              "392    0\n",
              "393    0\n",
              "394    1\n",
              "Name: nursery_binary, Length: 395, dtype: int64"
            ]
          },
          "metadata": {},
          "execution_count": 77
        }
      ]
    },
    {
      "cell_type": "code",
      "source": [
        "coursework['internet'].unique()"
      ],
      "metadata": {
        "id": "1YShHNmTpIfb",
        "colab": {
          "base_uri": "https://localhost:8080/"
        },
        "outputId": "006b44d7-9e48-45fd-c92e-925e1b806511"
      },
      "execution_count": null,
      "outputs": [
        {
          "output_type": "execute_result",
          "data": {
            "text/plain": [
              "array(['no', 'yes'], dtype=object)"
            ]
          },
          "metadata": {},
          "execution_count": 78
        }
      ]
    },
    {
      "cell_type": "code",
      "source": [
        "coursework['internet_binary'] = coursework['internet'].map({\"no\":0, \"yes\":1})"
      ],
      "metadata": {
        "id": "Uk23VFa0pMzS"
      },
      "execution_count": null,
      "outputs": []
    },
    {
      "cell_type": "code",
      "source": [
        "coursework['internet_binary']"
      ],
      "metadata": {
        "id": "bdOH0ISvpQ7a",
        "colab": {
          "base_uri": "https://localhost:8080/"
        },
        "outputId": "9f76dbb8-ec9a-427b-fefa-79316b9ad420"
      },
      "execution_count": null,
      "outputs": [
        {
          "output_type": "execute_result",
          "data": {
            "text/plain": [
              "0      0\n",
              "1      1\n",
              "2      1\n",
              "3      1\n",
              "4      0\n",
              "      ..\n",
              "390    0\n",
              "391    1\n",
              "392    0\n",
              "393    1\n",
              "394    1\n",
              "Name: internet_binary, Length: 395, dtype: int64"
            ]
          },
          "metadata": {},
          "execution_count": 80
        }
      ]
    },
    {
      "cell_type": "code",
      "source": [
        "coursework['romantic'].unique()"
      ],
      "metadata": {
        "id": "EFFZwdhQrHMI",
        "colab": {
          "base_uri": "https://localhost:8080/"
        },
        "outputId": "ddf591a0-8d87-42f3-a0e4-b11dd3ccc530"
      },
      "execution_count": null,
      "outputs": [
        {
          "output_type": "execute_result",
          "data": {
            "text/plain": [
              "array(['no', 'yes'], dtype=object)"
            ]
          },
          "metadata": {},
          "execution_count": 81
        }
      ]
    },
    {
      "cell_type": "code",
      "source": [
        "coursework['romantic_binary'] = coursework['romantic'].map({\"no\":0, \"yes\":1})"
      ],
      "metadata": {
        "id": "QuuOJm4rrNP6"
      },
      "execution_count": null,
      "outputs": []
    },
    {
      "cell_type": "code",
      "source": [
        "coursework['romantic']"
      ],
      "metadata": {
        "id": "mBEiFv81rZJx",
        "colab": {
          "base_uri": "https://localhost:8080/"
        },
        "outputId": "6d51c435-9445-48dc-8543-aec2e99f7693"
      },
      "execution_count": null,
      "outputs": [
        {
          "output_type": "execute_result",
          "data": {
            "text/plain": [
              "0       no\n",
              "1       no\n",
              "2       no\n",
              "3      yes\n",
              "4       no\n",
              "      ... \n",
              "390     no\n",
              "391     no\n",
              "392     no\n",
              "393     no\n",
              "394     no\n",
              "Name: romantic, Length: 395, dtype: object"
            ]
          },
          "metadata": {},
          "execution_count": 83
        }
      ]
    },
    {
      "cell_type": "markdown",
      "source": [
        "**Explaination:**\n",
        "\n",
        "Columns \"School,\" \"Sex,\" \"Address,\" \"Schools Up,\" \"Fams Up,\" \"Activities,\" \"Nursery,\" \"Internet,\" and \"Romantic\" should have values in binary 0 and 1, respectively. To eliminate overwriting the existing ones, new columns must be formed for every column. Replace method has been implemented to convert values into binary.\n",
        "\n",
        "\n",
        "**For instance:**\n",
        "\n",
        "\n",
        "coursework['address'].unique()\n",
        "It first showcases the unique values in the address column.\n",
        "\n",
        "\n",
        "coursework['address_binary'] = coursework['address'].map({\"U\":1, \"R\":0})\n",
        "Here,map(\"yes\":1, \"no\":0) will swap out \"yes\" for \"1\" and \"no\" for \"0.\" In this manner, binary values will be substituted for the values in a column. The values for other columns can also be converted to binary using the same technique.\n",
        "\n",
        "coursework['address_binary'] is to generate a new column and coursework['address'] is to access a dataset's already-existing column. The path of the dataset stored in Google Drive is given a variable name 'coursework'.\n"
      ],
      "metadata": {
        "id": "WtLqgYHmk26k"
      }
    },
    {
      "cell_type": "code",
      "source": [
        "coursework.head()"
      ],
      "metadata": {
        "id": "Lf2rxdTDrmr3",
        "colab": {
          "base_uri": "https://localhost:8080/",
          "height": 456
        },
        "outputId": "108bc7a9-77a3-4a34-8627-67b84a3096bd"
      },
      "execution_count": null,
      "outputs": [
        {
          "output_type": "execute_result",
          "data": {
            "text/plain": [
              "  school sex  age address famsize Pstatus                           Medu  \\\n",
              "0     GP   F   18       U     GT3       A               higher education   \n",
              "1     GP   F   17       U     GT3       T  primary education (4th grade)   \n",
              "2     GP   F   15       U     LE3       T  primary education (4th grade)   \n",
              "3     GP   F   15       U     GT3       T               higher education   \n",
              "4     GP   F   16       U     GT3       T            secondary education   \n",
              "\n",
              "                            Fedu     Mjob      Fjob  ...  G3 school_binary  \\\n",
              "0               higher education  at_home   teacher  ...   6             0   \n",
              "1  primary education (4th grade)  at_home     other  ...   6             0   \n",
              "2  primary education (4th grade)  at_home     other  ...  10             0   \n",
              "3               5th to 9th grade   health  services  ...  15             0   \n",
              "4            secondary education    other     other  ...  10             0   \n",
              "\n",
              "  sex_binary address_binary  schoolsup_binary famsup_binary activities_binary  \\\n",
              "0          0              1                 1             0                 0   \n",
              "1          0              1                 0             1                 0   \n",
              "2          0              1                 1             0                 0   \n",
              "3          0              1                 0             1                 1   \n",
              "4          0              1                 0             1                 0   \n",
              "\n",
              "  nursery_binary internet_binary romantic_binary  \n",
              "0              1               0               0  \n",
              "1              0               1               0  \n",
              "2              1               1               0  \n",
              "3              1               1               1  \n",
              "4              1               0               0  \n",
              "\n",
              "[5 rows x 42 columns]"
            ],
            "text/html": [
              "\n",
              "  <div id=\"df-a6ad333f-e2f3-47e3-99ff-00e1fa0703ba\">\n",
              "    <div class=\"colab-df-container\">\n",
              "      <div>\n",
              "<style scoped>\n",
              "    .dataframe tbody tr th:only-of-type {\n",
              "        vertical-align: middle;\n",
              "    }\n",
              "\n",
              "    .dataframe tbody tr th {\n",
              "        vertical-align: top;\n",
              "    }\n",
              "\n",
              "    .dataframe thead th {\n",
              "        text-align: right;\n",
              "    }\n",
              "</style>\n",
              "<table border=\"1\" class=\"dataframe\">\n",
              "  <thead>\n",
              "    <tr style=\"text-align: right;\">\n",
              "      <th></th>\n",
              "      <th>school</th>\n",
              "      <th>sex</th>\n",
              "      <th>age</th>\n",
              "      <th>address</th>\n",
              "      <th>famsize</th>\n",
              "      <th>Pstatus</th>\n",
              "      <th>Medu</th>\n",
              "      <th>Fedu</th>\n",
              "      <th>Mjob</th>\n",
              "      <th>Fjob</th>\n",
              "      <th>...</th>\n",
              "      <th>G3</th>\n",
              "      <th>school_binary</th>\n",
              "      <th>sex_binary</th>\n",
              "      <th>address_binary</th>\n",
              "      <th>schoolsup_binary</th>\n",
              "      <th>famsup_binary</th>\n",
              "      <th>activities_binary</th>\n",
              "      <th>nursery_binary</th>\n",
              "      <th>internet_binary</th>\n",
              "      <th>romantic_binary</th>\n",
              "    </tr>\n",
              "  </thead>\n",
              "  <tbody>\n",
              "    <tr>\n",
              "      <th>0</th>\n",
              "      <td>GP</td>\n",
              "      <td>F</td>\n",
              "      <td>18</td>\n",
              "      <td>U</td>\n",
              "      <td>GT3</td>\n",
              "      <td>A</td>\n",
              "      <td>higher education</td>\n",
              "      <td>higher education</td>\n",
              "      <td>at_home</td>\n",
              "      <td>teacher</td>\n",
              "      <td>...</td>\n",
              "      <td>6</td>\n",
              "      <td>0</td>\n",
              "      <td>0</td>\n",
              "      <td>1</td>\n",
              "      <td>1</td>\n",
              "      <td>0</td>\n",
              "      <td>0</td>\n",
              "      <td>1</td>\n",
              "      <td>0</td>\n",
              "      <td>0</td>\n",
              "    </tr>\n",
              "    <tr>\n",
              "      <th>1</th>\n",
              "      <td>GP</td>\n",
              "      <td>F</td>\n",
              "      <td>17</td>\n",
              "      <td>U</td>\n",
              "      <td>GT3</td>\n",
              "      <td>T</td>\n",
              "      <td>primary education (4th grade)</td>\n",
              "      <td>primary education (4th grade)</td>\n",
              "      <td>at_home</td>\n",
              "      <td>other</td>\n",
              "      <td>...</td>\n",
              "      <td>6</td>\n",
              "      <td>0</td>\n",
              "      <td>0</td>\n",
              "      <td>1</td>\n",
              "      <td>0</td>\n",
              "      <td>1</td>\n",
              "      <td>0</td>\n",
              "      <td>0</td>\n",
              "      <td>1</td>\n",
              "      <td>0</td>\n",
              "    </tr>\n",
              "    <tr>\n",
              "      <th>2</th>\n",
              "      <td>GP</td>\n",
              "      <td>F</td>\n",
              "      <td>15</td>\n",
              "      <td>U</td>\n",
              "      <td>LE3</td>\n",
              "      <td>T</td>\n",
              "      <td>primary education (4th grade)</td>\n",
              "      <td>primary education (4th grade)</td>\n",
              "      <td>at_home</td>\n",
              "      <td>other</td>\n",
              "      <td>...</td>\n",
              "      <td>10</td>\n",
              "      <td>0</td>\n",
              "      <td>0</td>\n",
              "      <td>1</td>\n",
              "      <td>1</td>\n",
              "      <td>0</td>\n",
              "      <td>0</td>\n",
              "      <td>1</td>\n",
              "      <td>1</td>\n",
              "      <td>0</td>\n",
              "    </tr>\n",
              "    <tr>\n",
              "      <th>3</th>\n",
              "      <td>GP</td>\n",
              "      <td>F</td>\n",
              "      <td>15</td>\n",
              "      <td>U</td>\n",
              "      <td>GT3</td>\n",
              "      <td>T</td>\n",
              "      <td>higher education</td>\n",
              "      <td>5th to 9th grade</td>\n",
              "      <td>health</td>\n",
              "      <td>services</td>\n",
              "      <td>...</td>\n",
              "      <td>15</td>\n",
              "      <td>0</td>\n",
              "      <td>0</td>\n",
              "      <td>1</td>\n",
              "      <td>0</td>\n",
              "      <td>1</td>\n",
              "      <td>1</td>\n",
              "      <td>1</td>\n",
              "      <td>1</td>\n",
              "      <td>1</td>\n",
              "    </tr>\n",
              "    <tr>\n",
              "      <th>4</th>\n",
              "      <td>GP</td>\n",
              "      <td>F</td>\n",
              "      <td>16</td>\n",
              "      <td>U</td>\n",
              "      <td>GT3</td>\n",
              "      <td>T</td>\n",
              "      <td>secondary education</td>\n",
              "      <td>secondary education</td>\n",
              "      <td>other</td>\n",
              "      <td>other</td>\n",
              "      <td>...</td>\n",
              "      <td>10</td>\n",
              "      <td>0</td>\n",
              "      <td>0</td>\n",
              "      <td>1</td>\n",
              "      <td>0</td>\n",
              "      <td>1</td>\n",
              "      <td>0</td>\n",
              "      <td>1</td>\n",
              "      <td>0</td>\n",
              "      <td>0</td>\n",
              "    </tr>\n",
              "  </tbody>\n",
              "</table>\n",
              "<p>5 rows × 42 columns</p>\n",
              "</div>\n",
              "      <button class=\"colab-df-convert\" onclick=\"convertToInteractive('df-a6ad333f-e2f3-47e3-99ff-00e1fa0703ba')\"\n",
              "              title=\"Convert this dataframe to an interactive table.\"\n",
              "              style=\"display:none;\">\n",
              "        \n",
              "  <svg xmlns=\"http://www.w3.org/2000/svg\" height=\"24px\"viewBox=\"0 0 24 24\"\n",
              "       width=\"24px\">\n",
              "    <path d=\"M0 0h24v24H0V0z\" fill=\"none\"/>\n",
              "    <path d=\"M18.56 5.44l.94 2.06.94-2.06 2.06-.94-2.06-.94-.94-2.06-.94 2.06-2.06.94zm-11 1L8.5 8.5l.94-2.06 2.06-.94-2.06-.94L8.5 2.5l-.94 2.06-2.06.94zm10 10l.94 2.06.94-2.06 2.06-.94-2.06-.94-.94-2.06-.94 2.06-2.06.94z\"/><path d=\"M17.41 7.96l-1.37-1.37c-.4-.4-.92-.59-1.43-.59-.52 0-1.04.2-1.43.59L10.3 9.45l-7.72 7.72c-.78.78-.78 2.05 0 2.83L4 21.41c.39.39.9.59 1.41.59.51 0 1.02-.2 1.41-.59l7.78-7.78 2.81-2.81c.8-.78.8-2.07 0-2.86zM5.41 20L4 18.59l7.72-7.72 1.47 1.35L5.41 20z\"/>\n",
              "  </svg>\n",
              "      </button>\n",
              "      \n",
              "  <style>\n",
              "    .colab-df-container {\n",
              "      display:flex;\n",
              "      flex-wrap:wrap;\n",
              "      gap: 12px;\n",
              "    }\n",
              "\n",
              "    .colab-df-convert {\n",
              "      background-color: #E8F0FE;\n",
              "      border: none;\n",
              "      border-radius: 50%;\n",
              "      cursor: pointer;\n",
              "      display: none;\n",
              "      fill: #1967D2;\n",
              "      height: 32px;\n",
              "      padding: 0 0 0 0;\n",
              "      width: 32px;\n",
              "    }\n",
              "\n",
              "    .colab-df-convert:hover {\n",
              "      background-color: #E2EBFA;\n",
              "      box-shadow: 0px 1px 2px rgba(60, 64, 67, 0.3), 0px 1px 3px 1px rgba(60, 64, 67, 0.15);\n",
              "      fill: #174EA6;\n",
              "    }\n",
              "\n",
              "    [theme=dark] .colab-df-convert {\n",
              "      background-color: #3B4455;\n",
              "      fill: #D2E3FC;\n",
              "    }\n",
              "\n",
              "    [theme=dark] .colab-df-convert:hover {\n",
              "      background-color: #434B5C;\n",
              "      box-shadow: 0px 1px 3px 1px rgba(0, 0, 0, 0.15);\n",
              "      filter: drop-shadow(0px 1px 2px rgba(0, 0, 0, 0.3));\n",
              "      fill: #FFFFFF;\n",
              "    }\n",
              "  </style>\n",
              "\n",
              "      <script>\n",
              "        const buttonEl =\n",
              "          document.querySelector('#df-a6ad333f-e2f3-47e3-99ff-00e1fa0703ba button.colab-df-convert');\n",
              "        buttonEl.style.display =\n",
              "          google.colab.kernel.accessAllowed ? 'block' : 'none';\n",
              "\n",
              "        async function convertToInteractive(key) {\n",
              "          const element = document.querySelector('#df-a6ad333f-e2f3-47e3-99ff-00e1fa0703ba');\n",
              "          const dataTable =\n",
              "            await google.colab.kernel.invokeFunction('convertToInteractive',\n",
              "                                                     [key], {});\n",
              "          if (!dataTable) return;\n",
              "\n",
              "          const docLinkHtml = 'Like what you see? Visit the ' +\n",
              "            '<a target=\"_blank\" href=https://colab.research.google.com/notebooks/data_table.ipynb>data table notebook</a>'\n",
              "            + ' to learn more about interactive tables.';\n",
              "          element.innerHTML = '';\n",
              "          dataTable['output_type'] = 'display_data';\n",
              "          await google.colab.output.renderOutput(dataTable, element);\n",
              "          const docLink = document.createElement('div');\n",
              "          docLink.innerHTML = docLinkHtml;\n",
              "          element.appendChild(docLink);\n",
              "        }\n",
              "      </script>\n",
              "    </div>\n",
              "  </div>\n",
              "  "
            ]
          },
          "metadata": {},
          "execution_count": 84
        }
      ]
    },
    {
      "cell_type": "markdown",
      "source": [
        "\n",
        "**Explaination:**\n",
        "\n",
        "Coursework.head() displays the first few values of the dataset by default."
      ],
      "metadata": {
        "id": "6un5-L0DlLR8"
      }
    },
    {
      "cell_type": "markdown",
      "source": [
        "2. ”Medu”, ”Fedu”, ”reason”, ”guardian”, ”studytime”, ”freetime”, and ”health” into ordinal numbers based\n",
        "on the number cases in the data set (create news columns without overwriting the existing ones)."
      ],
      "metadata": {
        "id": "8Pj3OpYfJeYC"
      }
    },
    {
      "cell_type": "code",
      "source": [
        "coursework['Medu'].unique()"
      ],
      "metadata": {
        "id": "jcJtMEvKJgVM",
        "colab": {
          "base_uri": "https://localhost:8080/"
        },
        "outputId": "a582e796-8fd7-45b9-ce58-b4fe7ea61f3e"
      },
      "execution_count": null,
      "outputs": [
        {
          "output_type": "execute_result",
          "data": {
            "text/plain": [
              "array(['higher education', 'primary education (4th grade)',\n",
              "       'secondary education', '5th to 9th grade', 'none'], dtype=object)"
            ]
          },
          "metadata": {},
          "execution_count": 85
        }
      ]
    },
    {
      "cell_type": "code",
      "source": [
        "coursework['Medu_ordinal'] = coursework['Medu'].map({\"higher education\":1, \"primary education (4th grade)\":2, \"secondary education\":3, \"5th to 9th grade\":4, \"none\":5})"
      ],
      "metadata": {
        "id": "GTjrvO3xKfxI"
      },
      "execution_count": null,
      "outputs": []
    },
    {
      "cell_type": "code",
      "source": [
        "coursework['Medu_ordinal']"
      ],
      "metadata": {
        "id": "0Z_KyUQ6LK0I",
        "colab": {
          "base_uri": "https://localhost:8080/"
        },
        "outputId": "dcc3edf3-4fb0-4362-ab85-0455d65be2ee"
      },
      "execution_count": null,
      "outputs": [
        {
          "output_type": "execute_result",
          "data": {
            "text/plain": [
              "0      1\n",
              "1      2\n",
              "2      2\n",
              "3      1\n",
              "4      3\n",
              "      ..\n",
              "390    4\n",
              "391    3\n",
              "392    2\n",
              "393    3\n",
              "394    2\n",
              "Name: Medu_ordinal, Length: 395, dtype: int64"
            ]
          },
          "metadata": {},
          "execution_count": 87
        }
      ]
    },
    {
      "cell_type": "code",
      "source": [
        "coursework['Fedu'].unique()"
      ],
      "metadata": {
        "id": "JX1jO7iXLlLq",
        "colab": {
          "base_uri": "https://localhost:8080/"
        },
        "outputId": "2f8e5dcc-b3a1-4f3f-d6d8-52628b2c7bb8"
      },
      "execution_count": null,
      "outputs": [
        {
          "output_type": "execute_result",
          "data": {
            "text/plain": [
              "array(['higher education', 'primary education (4th grade)',\n",
              "       '5th to 9th grade', 'secondary education', 'none'], dtype=object)"
            ]
          },
          "metadata": {},
          "execution_count": 88
        }
      ]
    },
    {
      "cell_type": "code",
      "source": [
        "coursework['Fedu_ordinal'] = coursework['Fedu'].map({\"higher education\":1, \"primary education (4th grade)\":2, \"5th to 9th grade\":3, \"secondary education\":4, \"none\":5})"
      ],
      "metadata": {
        "id": "9IT_LQkzLtwT"
      },
      "execution_count": null,
      "outputs": []
    },
    {
      "cell_type": "code",
      "source": [
        "coursework['Fedu_ordinal']"
      ],
      "metadata": {
        "id": "hasP0ExwMC9a",
        "colab": {
          "base_uri": "https://localhost:8080/"
        },
        "outputId": "082f7101-eb0f-4cb3-eb43-4ef4c26e1395"
      },
      "execution_count": null,
      "outputs": [
        {
          "output_type": "execute_result",
          "data": {
            "text/plain": [
              "0      1\n",
              "1      2\n",
              "2      2\n",
              "3      3\n",
              "4      4\n",
              "      ..\n",
              "390    3\n",
              "391    2\n",
              "392    2\n",
              "393    3\n",
              "394    2\n",
              "Name: Fedu_ordinal, Length: 395, dtype: int64"
            ]
          },
          "metadata": {},
          "execution_count": 90
        }
      ]
    },
    {
      "cell_type": "code",
      "source": [
        "coursework['reason'].unique()"
      ],
      "metadata": {
        "id": "0d74kDgMrzA2",
        "colab": {
          "base_uri": "https://localhost:8080/"
        },
        "outputId": "eb70ebad-389e-4ea1-e4cb-25a3ea639441"
      },
      "execution_count": null,
      "outputs": [
        {
          "output_type": "execute_result",
          "data": {
            "text/plain": [
              "array(['course', 'other', 'home', 'reputation'], dtype=object)"
            ]
          },
          "metadata": {},
          "execution_count": 91
        }
      ]
    },
    {
      "cell_type": "code",
      "source": [
        "coursework['reason_ordinal'] = coursework['reason'].map({\"course\":1, \"other\":2, \"home\":3, \"reputation\":4})"
      ],
      "metadata": {
        "id": "e1HmafC4r76T"
      },
      "execution_count": null,
      "outputs": []
    },
    {
      "cell_type": "code",
      "source": [
        "coursework['reason_ordinal']"
      ],
      "metadata": {
        "id": "mpuJqx29sUbU",
        "colab": {
          "base_uri": "https://localhost:8080/"
        },
        "outputId": "4d760e4e-a776-43de-c1e7-687751d18e4f"
      },
      "execution_count": null,
      "outputs": [
        {
          "output_type": "execute_result",
          "data": {
            "text/plain": [
              "0      1\n",
              "1      1\n",
              "2      2\n",
              "3      3\n",
              "4      3\n",
              "      ..\n",
              "390    1\n",
              "391    1\n",
              "392    1\n",
              "393    1\n",
              "394    1\n",
              "Name: reason_ordinal, Length: 395, dtype: int64"
            ]
          },
          "metadata": {},
          "execution_count": 93
        }
      ]
    },
    {
      "cell_type": "code",
      "source": [
        "coursework['guardian'].unique()"
      ],
      "metadata": {
        "id": "PwZiU0R0sZmq",
        "colab": {
          "base_uri": "https://localhost:8080/"
        },
        "outputId": "ece87838-896f-427e-a041-01379149139c"
      },
      "execution_count": null,
      "outputs": [
        {
          "output_type": "execute_result",
          "data": {
            "text/plain": [
              "array(['mother', 'father', 'other'], dtype=object)"
            ]
          },
          "metadata": {},
          "execution_count": 94
        }
      ]
    },
    {
      "cell_type": "code",
      "source": [
        "coursework['guardian_ordinal'] = coursework['guardian'].map({\"mother\":1, \"father\":2, \"other\":3})"
      ],
      "metadata": {
        "id": "KW_fsgGRsbsB"
      },
      "execution_count": null,
      "outputs": []
    },
    {
      "cell_type": "code",
      "source": [
        "coursework['guardian_ordinal']"
      ],
      "metadata": {
        "id": "iXRqjRYjseBF",
        "colab": {
          "base_uri": "https://localhost:8080/"
        },
        "outputId": "37de085b-0942-428f-c083-3dc8e5b51ecd"
      },
      "execution_count": null,
      "outputs": [
        {
          "output_type": "execute_result",
          "data": {
            "text/plain": [
              "0      1\n",
              "1      2\n",
              "2      1\n",
              "3      1\n",
              "4      2\n",
              "      ..\n",
              "390    3\n",
              "391    1\n",
              "392    3\n",
              "393    1\n",
              "394    2\n",
              "Name: guardian_ordinal, Length: 395, dtype: int64"
            ]
          },
          "metadata": {},
          "execution_count": 96
        }
      ]
    },
    {
      "cell_type": "code",
      "source": [
        "coursework['studytime'].unique()"
      ],
      "metadata": {
        "id": "yuC0IoAcsxsO",
        "colab": {
          "base_uri": "https://localhost:8080/"
        },
        "outputId": "e2af5c50-fd34-4a28-9469-0babc3c40473"
      },
      "execution_count": null,
      "outputs": [
        {
          "output_type": "execute_result",
          "data": {
            "text/plain": [
              "array(['2 to 5 hours', '5 to 10 hours', '<2 hours', '>10 hours'],\n",
              "      dtype=object)"
            ]
          },
          "metadata": {},
          "execution_count": 97
        }
      ]
    },
    {
      "cell_type": "code",
      "source": [
        "coursework['studytime_ordinal'] = coursework['studytime'].map({\"2 to 5 hours\":1, \"5 to 10 hours\":2, \"<2 hours\":3, \">10 hours\":4})"
      ],
      "metadata": {
        "id": "kWxKez7os-NG"
      },
      "execution_count": null,
      "outputs": []
    },
    {
      "cell_type": "code",
      "source": [
        "coursework['studytime_ordinal']"
      ],
      "metadata": {
        "id": "lblrp9obtisC",
        "colab": {
          "base_uri": "https://localhost:8080/"
        },
        "outputId": "f33a4e24-141c-45b2-d90f-ad641e12098a"
      },
      "execution_count": null,
      "outputs": [
        {
          "output_type": "execute_result",
          "data": {
            "text/plain": [
              "0      1\n",
              "1      1\n",
              "2      1\n",
              "3      2\n",
              "4      1\n",
              "      ..\n",
              "390    1\n",
              "391    3\n",
              "392    3\n",
              "393    3\n",
              "394    3\n",
              "Name: studytime_ordinal, Length: 395, dtype: int64"
            ]
          },
          "metadata": {},
          "execution_count": 99
        }
      ]
    },
    {
      "cell_type": "code",
      "source": [
        "coursework['freetime'].unique()"
      ],
      "metadata": {
        "id": "yLo-WWq3s1-O",
        "colab": {
          "base_uri": "https://localhost:8080/"
        },
        "outputId": "44bf60fc-722c-4323-87de-034de3cd4734"
      },
      "execution_count": null,
      "outputs": [
        {
          "output_type": "execute_result",
          "data": {
            "text/plain": [
              "array(['medium', 'low', 'high', 'very low', 'very high'], dtype=object)"
            ]
          },
          "metadata": {},
          "execution_count": 100
        }
      ]
    },
    {
      "cell_type": "code",
      "source": [
        "coursework['freetime_ordinal'] = coursework['freetime'].map({\"medium\":1, \"low\":2, \"high\":3, \"very low\":4, \"very high\":5})"
      ],
      "metadata": {
        "id": "3525Q1SctBLv"
      },
      "execution_count": null,
      "outputs": []
    },
    {
      "cell_type": "code",
      "source": [
        "coursework['freetime_ordinal']"
      ],
      "metadata": {
        "id": "LJQEPSXTtmJS",
        "colab": {
          "base_uri": "https://localhost:8080/"
        },
        "outputId": "f6d427cf-570d-4d70-fe53-d57a4b3e3592"
      },
      "execution_count": null,
      "outputs": [
        {
          "output_type": "execute_result",
          "data": {
            "text/plain": [
              "0      1\n",
              "1      1\n",
              "2      1\n",
              "3      2\n",
              "4      1\n",
              "      ..\n",
              "390    5\n",
              "391    3\n",
              "392    5\n",
              "393    3\n",
              "394    2\n",
              "Name: freetime_ordinal, Length: 395, dtype: int64"
            ]
          },
          "metadata": {},
          "execution_count": 102
        }
      ]
    },
    {
      "cell_type": "code",
      "source": [
        "coursework['health'].unique()"
      ],
      "metadata": {
        "id": "Flenlmo7s2tR",
        "colab": {
          "base_uri": "https://localhost:8080/"
        },
        "outputId": "ab502b7f-f77a-4188-bd91-5b719c53020e"
      },
      "execution_count": null,
      "outputs": [
        {
          "output_type": "execute_result",
          "data": {
            "text/plain": [
              "array(['good', 'excellent', 'very bad', 'bad', 'very good'], dtype=object)"
            ]
          },
          "metadata": {},
          "execution_count": 103
        }
      ]
    },
    {
      "cell_type": "code",
      "source": [
        "coursework['health_ordinal'] = coursework['health'].map({\"good\":1, \"excellent\":2, \"very bad\":3, \"bad\":4, \"very good\":5})"
      ],
      "metadata": {
        "id": "FkvuecvDtB_J"
      },
      "execution_count": null,
      "outputs": []
    },
    {
      "cell_type": "code",
      "source": [
        "coursework['health_ordinal']"
      ],
      "metadata": {
        "id": "ub8YzM7Gtnvp",
        "colab": {
          "base_uri": "https://localhost:8080/"
        },
        "outputId": "11ff44cf-5d9f-4419-c958-bacd898a0df2"
      },
      "execution_count": null,
      "outputs": [
        {
          "output_type": "execute_result",
          "data": {
            "text/plain": [
              "0      1\n",
              "1      1\n",
              "2      1\n",
              "3      2\n",
              "4      2\n",
              "      ..\n",
              "390    5\n",
              "391    4\n",
              "392    1\n",
              "393    2\n",
              "394    2\n",
              "Name: health_ordinal, Length: 395, dtype: int64"
            ]
          },
          "metadata": {},
          "execution_count": 105
        }
      ]
    },
    {
      "cell_type": "markdown",
      "source": [
        "**Explaination:**\n",
        "\n",
        "\n",
        "coursework['freetime'].unique() is used to acquire the unique values for each column in the dataset to the various columns. More than two distinct values can be identified in the columns \"Medu,\" \"Fedu,\" \"reason,\" \"guardian,\" \"studytime,\" \"freetime,\" and \"health.\" Since binary only has two values—0 and 1—it is not possible to substitute values in this situation with binary. Therefore, ordinal numbers are used to replace the values.\n",
        "\n",
        "**Code:**\n",
        "coursework['freetime_ordinal'] = coursework['freetime'].map({\"medium\":1, \"low\":2, \"high\":3, \"very low\":4, \"very high\":5})\n",
        "\n",
        "\n",
        "\n",
        "Here, 'coursework' is the variable for the path of dataset.\n",
        "\n",
        "\n",
        "coursework['freetime_ordinal'] is to create a new column. coursework['freetime']is used to access the existing column.\n",
        "\n",
        "\n",
        "Likewise, [.map({\"medium\":1, \"low\":2, \"high\":3, \"very low\":4, \"very high\":5})] is utilized to replace each value in a series with a different value.\n",
        "\n",
        "\n",
        "To replace values with ordinal numbers for other columns, we can use the same procedure.\n"
      ],
      "metadata": {
        "id": "OD1F7INLyKws"
      }
    },
    {
      "cell_type": "code",
      "source": [
        "coursework.tail()"
      ],
      "metadata": {
        "id": "_4fg1_s0tp1y",
        "colab": {
          "base_uri": "https://localhost:8080/",
          "height": 491
        },
        "outputId": "2cbd932d-57d3-422f-bd37-9e70568969ce"
      },
      "execution_count": null,
      "outputs": [
        {
          "output_type": "execute_result",
          "data": {
            "text/plain": [
              "    school sex  age address famsize Pstatus                           Medu  \\\n",
              "390     MS   M   20       U     LE3       A               5th to 9th grade   \n",
              "391     MS   M   17       U     LE3       T            secondary education   \n",
              "392     MS   M   21       R     GT3       T  primary education (4th grade)   \n",
              "393     MS   M   18       R     LE3       T            secondary education   \n",
              "394     MS   M   19       U     LE3       T  primary education (4th grade)   \n",
              "\n",
              "                              Fedu      Mjob      Fjob  ... nursery_binary  \\\n",
              "390               5th to 9th grade  services  services  ...              1   \n",
              "391  primary education (4th grade)  services  services  ...              0   \n",
              "392  primary education (4th grade)     other     other  ...              0   \n",
              "393               5th to 9th grade  services     other  ...              0   \n",
              "394  primary education (4th grade)     other   at_home  ...              1   \n",
              "\n",
              "    internet_binary romantic_binary Medu_ordinal  Fedu_ordinal reason_ordinal  \\\n",
              "390               0               0            4             3              1   \n",
              "391               1               0            3             2              1   \n",
              "392               0               0            2             2              1   \n",
              "393               1               0            3             3              1   \n",
              "394               1               0            2             2              1   \n",
              "\n",
              "    guardian_ordinal studytime_ordinal freetime_ordinal health_ordinal  \n",
              "390                3                 1                5              5  \n",
              "391                1                 3                3              4  \n",
              "392                3                 3                5              1  \n",
              "393                1                 3                3              2  \n",
              "394                2                 3                2              2  \n",
              "\n",
              "[5 rows x 49 columns]"
            ],
            "text/html": [
              "\n",
              "  <div id=\"df-91e381bc-32d9-4ef2-aed4-fbae2922a5f4\">\n",
              "    <div class=\"colab-df-container\">\n",
              "      <div>\n",
              "<style scoped>\n",
              "    .dataframe tbody tr th:only-of-type {\n",
              "        vertical-align: middle;\n",
              "    }\n",
              "\n",
              "    .dataframe tbody tr th {\n",
              "        vertical-align: top;\n",
              "    }\n",
              "\n",
              "    .dataframe thead th {\n",
              "        text-align: right;\n",
              "    }\n",
              "</style>\n",
              "<table border=\"1\" class=\"dataframe\">\n",
              "  <thead>\n",
              "    <tr style=\"text-align: right;\">\n",
              "      <th></th>\n",
              "      <th>school</th>\n",
              "      <th>sex</th>\n",
              "      <th>age</th>\n",
              "      <th>address</th>\n",
              "      <th>famsize</th>\n",
              "      <th>Pstatus</th>\n",
              "      <th>Medu</th>\n",
              "      <th>Fedu</th>\n",
              "      <th>Mjob</th>\n",
              "      <th>Fjob</th>\n",
              "      <th>...</th>\n",
              "      <th>nursery_binary</th>\n",
              "      <th>internet_binary</th>\n",
              "      <th>romantic_binary</th>\n",
              "      <th>Medu_ordinal</th>\n",
              "      <th>Fedu_ordinal</th>\n",
              "      <th>reason_ordinal</th>\n",
              "      <th>guardian_ordinal</th>\n",
              "      <th>studytime_ordinal</th>\n",
              "      <th>freetime_ordinal</th>\n",
              "      <th>health_ordinal</th>\n",
              "    </tr>\n",
              "  </thead>\n",
              "  <tbody>\n",
              "    <tr>\n",
              "      <th>390</th>\n",
              "      <td>MS</td>\n",
              "      <td>M</td>\n",
              "      <td>20</td>\n",
              "      <td>U</td>\n",
              "      <td>LE3</td>\n",
              "      <td>A</td>\n",
              "      <td>5th to 9th grade</td>\n",
              "      <td>5th to 9th grade</td>\n",
              "      <td>services</td>\n",
              "      <td>services</td>\n",
              "      <td>...</td>\n",
              "      <td>1</td>\n",
              "      <td>0</td>\n",
              "      <td>0</td>\n",
              "      <td>4</td>\n",
              "      <td>3</td>\n",
              "      <td>1</td>\n",
              "      <td>3</td>\n",
              "      <td>1</td>\n",
              "      <td>5</td>\n",
              "      <td>5</td>\n",
              "    </tr>\n",
              "    <tr>\n",
              "      <th>391</th>\n",
              "      <td>MS</td>\n",
              "      <td>M</td>\n",
              "      <td>17</td>\n",
              "      <td>U</td>\n",
              "      <td>LE3</td>\n",
              "      <td>T</td>\n",
              "      <td>secondary education</td>\n",
              "      <td>primary education (4th grade)</td>\n",
              "      <td>services</td>\n",
              "      <td>services</td>\n",
              "      <td>...</td>\n",
              "      <td>0</td>\n",
              "      <td>1</td>\n",
              "      <td>0</td>\n",
              "      <td>3</td>\n",
              "      <td>2</td>\n",
              "      <td>1</td>\n",
              "      <td>1</td>\n",
              "      <td>3</td>\n",
              "      <td>3</td>\n",
              "      <td>4</td>\n",
              "    </tr>\n",
              "    <tr>\n",
              "      <th>392</th>\n",
              "      <td>MS</td>\n",
              "      <td>M</td>\n",
              "      <td>21</td>\n",
              "      <td>R</td>\n",
              "      <td>GT3</td>\n",
              "      <td>T</td>\n",
              "      <td>primary education (4th grade)</td>\n",
              "      <td>primary education (4th grade)</td>\n",
              "      <td>other</td>\n",
              "      <td>other</td>\n",
              "      <td>...</td>\n",
              "      <td>0</td>\n",
              "      <td>0</td>\n",
              "      <td>0</td>\n",
              "      <td>2</td>\n",
              "      <td>2</td>\n",
              "      <td>1</td>\n",
              "      <td>3</td>\n",
              "      <td>3</td>\n",
              "      <td>5</td>\n",
              "      <td>1</td>\n",
              "    </tr>\n",
              "    <tr>\n",
              "      <th>393</th>\n",
              "      <td>MS</td>\n",
              "      <td>M</td>\n",
              "      <td>18</td>\n",
              "      <td>R</td>\n",
              "      <td>LE3</td>\n",
              "      <td>T</td>\n",
              "      <td>secondary education</td>\n",
              "      <td>5th to 9th grade</td>\n",
              "      <td>services</td>\n",
              "      <td>other</td>\n",
              "      <td>...</td>\n",
              "      <td>0</td>\n",
              "      <td>1</td>\n",
              "      <td>0</td>\n",
              "      <td>3</td>\n",
              "      <td>3</td>\n",
              "      <td>1</td>\n",
              "      <td>1</td>\n",
              "      <td>3</td>\n",
              "      <td>3</td>\n",
              "      <td>2</td>\n",
              "    </tr>\n",
              "    <tr>\n",
              "      <th>394</th>\n",
              "      <td>MS</td>\n",
              "      <td>M</td>\n",
              "      <td>19</td>\n",
              "      <td>U</td>\n",
              "      <td>LE3</td>\n",
              "      <td>T</td>\n",
              "      <td>primary education (4th grade)</td>\n",
              "      <td>primary education (4th grade)</td>\n",
              "      <td>other</td>\n",
              "      <td>at_home</td>\n",
              "      <td>...</td>\n",
              "      <td>1</td>\n",
              "      <td>1</td>\n",
              "      <td>0</td>\n",
              "      <td>2</td>\n",
              "      <td>2</td>\n",
              "      <td>1</td>\n",
              "      <td>2</td>\n",
              "      <td>3</td>\n",
              "      <td>2</td>\n",
              "      <td>2</td>\n",
              "    </tr>\n",
              "  </tbody>\n",
              "</table>\n",
              "<p>5 rows × 49 columns</p>\n",
              "</div>\n",
              "      <button class=\"colab-df-convert\" onclick=\"convertToInteractive('df-91e381bc-32d9-4ef2-aed4-fbae2922a5f4')\"\n",
              "              title=\"Convert this dataframe to an interactive table.\"\n",
              "              style=\"display:none;\">\n",
              "        \n",
              "  <svg xmlns=\"http://www.w3.org/2000/svg\" height=\"24px\"viewBox=\"0 0 24 24\"\n",
              "       width=\"24px\">\n",
              "    <path d=\"M0 0h24v24H0V0z\" fill=\"none\"/>\n",
              "    <path d=\"M18.56 5.44l.94 2.06.94-2.06 2.06-.94-2.06-.94-.94-2.06-.94 2.06-2.06.94zm-11 1L8.5 8.5l.94-2.06 2.06-.94-2.06-.94L8.5 2.5l-.94 2.06-2.06.94zm10 10l.94 2.06.94-2.06 2.06-.94-2.06-.94-.94-2.06-.94 2.06-2.06.94z\"/><path d=\"M17.41 7.96l-1.37-1.37c-.4-.4-.92-.59-1.43-.59-.52 0-1.04.2-1.43.59L10.3 9.45l-7.72 7.72c-.78.78-.78 2.05 0 2.83L4 21.41c.39.39.9.59 1.41.59.51 0 1.02-.2 1.41-.59l7.78-7.78 2.81-2.81c.8-.78.8-2.07 0-2.86zM5.41 20L4 18.59l7.72-7.72 1.47 1.35L5.41 20z\"/>\n",
              "  </svg>\n",
              "      </button>\n",
              "      \n",
              "  <style>\n",
              "    .colab-df-container {\n",
              "      display:flex;\n",
              "      flex-wrap:wrap;\n",
              "      gap: 12px;\n",
              "    }\n",
              "\n",
              "    .colab-df-convert {\n",
              "      background-color: #E8F0FE;\n",
              "      border: none;\n",
              "      border-radius: 50%;\n",
              "      cursor: pointer;\n",
              "      display: none;\n",
              "      fill: #1967D2;\n",
              "      height: 32px;\n",
              "      padding: 0 0 0 0;\n",
              "      width: 32px;\n",
              "    }\n",
              "\n",
              "    .colab-df-convert:hover {\n",
              "      background-color: #E2EBFA;\n",
              "      box-shadow: 0px 1px 2px rgba(60, 64, 67, 0.3), 0px 1px 3px 1px rgba(60, 64, 67, 0.15);\n",
              "      fill: #174EA6;\n",
              "    }\n",
              "\n",
              "    [theme=dark] .colab-df-convert {\n",
              "      background-color: #3B4455;\n",
              "      fill: #D2E3FC;\n",
              "    }\n",
              "\n",
              "    [theme=dark] .colab-df-convert:hover {\n",
              "      background-color: #434B5C;\n",
              "      box-shadow: 0px 1px 3px 1px rgba(0, 0, 0, 0.15);\n",
              "      filter: drop-shadow(0px 1px 2px rgba(0, 0, 0, 0.3));\n",
              "      fill: #FFFFFF;\n",
              "    }\n",
              "  </style>\n",
              "\n",
              "      <script>\n",
              "        const buttonEl =\n",
              "          document.querySelector('#df-91e381bc-32d9-4ef2-aed4-fbae2922a5f4 button.colab-df-convert');\n",
              "        buttonEl.style.display =\n",
              "          google.colab.kernel.accessAllowed ? 'block' : 'none';\n",
              "\n",
              "        async function convertToInteractive(key) {\n",
              "          const element = document.querySelector('#df-91e381bc-32d9-4ef2-aed4-fbae2922a5f4');\n",
              "          const dataTable =\n",
              "            await google.colab.kernel.invokeFunction('convertToInteractive',\n",
              "                                                     [key], {});\n",
              "          if (!dataTable) return;\n",
              "\n",
              "          const docLinkHtml = 'Like what you see? Visit the ' +\n",
              "            '<a target=\"_blank\" href=https://colab.research.google.com/notebooks/data_table.ipynb>data table notebook</a>'\n",
              "            + ' to learn more about interactive tables.';\n",
              "          element.innerHTML = '';\n",
              "          dataTable['output_type'] = 'display_data';\n",
              "          await google.colab.output.renderOutput(dataTable, element);\n",
              "          const docLink = document.createElement('div');\n",
              "          docLink.innerHTML = docLinkHtml;\n",
              "          element.appendChild(docLink);\n",
              "        }\n",
              "      </script>\n",
              "    </div>\n",
              "  </div>\n",
              "  "
            ]
          },
          "metadata": {},
          "execution_count": 106
        }
      ]
    },
    {
      "cell_type": "markdown",
      "source": [
        "**Explaination:**\n",
        "\n",
        "coursework.tail() is utilized to display last few data by default."
      ],
      "metadata": {
        "id": "1y3tKdR2MF3a"
      }
    },
    {
      "cell_type": "markdown",
      "source": [
        "3. Convert column ”age” to interval datatype. i.e. Create a new column name category age whose values\n",
        "should be based on the frequency in the column ”age”, You can create categorical data with following\n",
        "interval.\n",
        "\n",
        "(a) interval1: [15-17]\n",
        "\n",
        "(b) interval2: [18-20]\n",
        "\n",
        "(c) interval3: [21-all]"
      ],
      "metadata": {
        "id": "9eBkNaPRMK4A"
      }
    },
    {
      "cell_type": "code",
      "source": [
        "bin = [14,17,20,23]\n",
        "coursework['age_bins'] = pd.cut(x=coursework['age'], bins =  bin)\n",
        "\n",
        "coursework['interval'] = pd.cut(x=coursework['age'], bins =  bin ,labels= ['Interval1', 'Interval2','Interval3'])\n",
        "coursework[['age','age_bins','interval']]\n",
        "\n",
        "\n"
      ],
      "metadata": {
        "id": "3mdOaeFGY22n",
        "colab": {
          "base_uri": "https://localhost:8080/",
          "height": 424
        },
        "outputId": "11c70a21-98c3-4218-f8ab-d857e9e18bc8"
      },
      "execution_count": null,
      "outputs": [
        {
          "output_type": "execute_result",
          "data": {
            "text/plain": [
              "     age  age_bins   interval\n",
              "0     18  (17, 20]  Interval2\n",
              "1     17  (14, 17]  Interval1\n",
              "2     15  (14, 17]  Interval1\n",
              "3     15  (14, 17]  Interval1\n",
              "4     16  (14, 17]  Interval1\n",
              "..   ...       ...        ...\n",
              "390   20  (17, 20]  Interval2\n",
              "391   17  (14, 17]  Interval1\n",
              "392   21  (20, 23]  Interval3\n",
              "393   18  (17, 20]  Interval2\n",
              "394   19  (17, 20]  Interval2\n",
              "\n",
              "[395 rows x 3 columns]"
            ],
            "text/html": [
              "\n",
              "  <div id=\"df-d7178636-6fde-444a-8a78-1057bb90af81\">\n",
              "    <div class=\"colab-df-container\">\n",
              "      <div>\n",
              "<style scoped>\n",
              "    .dataframe tbody tr th:only-of-type {\n",
              "        vertical-align: middle;\n",
              "    }\n",
              "\n",
              "    .dataframe tbody tr th {\n",
              "        vertical-align: top;\n",
              "    }\n",
              "\n",
              "    .dataframe thead th {\n",
              "        text-align: right;\n",
              "    }\n",
              "</style>\n",
              "<table border=\"1\" class=\"dataframe\">\n",
              "  <thead>\n",
              "    <tr style=\"text-align: right;\">\n",
              "      <th></th>\n",
              "      <th>age</th>\n",
              "      <th>age_bins</th>\n",
              "      <th>interval</th>\n",
              "    </tr>\n",
              "  </thead>\n",
              "  <tbody>\n",
              "    <tr>\n",
              "      <th>0</th>\n",
              "      <td>18</td>\n",
              "      <td>(17, 20]</td>\n",
              "      <td>Interval2</td>\n",
              "    </tr>\n",
              "    <tr>\n",
              "      <th>1</th>\n",
              "      <td>17</td>\n",
              "      <td>(14, 17]</td>\n",
              "      <td>Interval1</td>\n",
              "    </tr>\n",
              "    <tr>\n",
              "      <th>2</th>\n",
              "      <td>15</td>\n",
              "      <td>(14, 17]</td>\n",
              "      <td>Interval1</td>\n",
              "    </tr>\n",
              "    <tr>\n",
              "      <th>3</th>\n",
              "      <td>15</td>\n",
              "      <td>(14, 17]</td>\n",
              "      <td>Interval1</td>\n",
              "    </tr>\n",
              "    <tr>\n",
              "      <th>4</th>\n",
              "      <td>16</td>\n",
              "      <td>(14, 17]</td>\n",
              "      <td>Interval1</td>\n",
              "    </tr>\n",
              "    <tr>\n",
              "      <th>...</th>\n",
              "      <td>...</td>\n",
              "      <td>...</td>\n",
              "      <td>...</td>\n",
              "    </tr>\n",
              "    <tr>\n",
              "      <th>390</th>\n",
              "      <td>20</td>\n",
              "      <td>(17, 20]</td>\n",
              "      <td>Interval2</td>\n",
              "    </tr>\n",
              "    <tr>\n",
              "      <th>391</th>\n",
              "      <td>17</td>\n",
              "      <td>(14, 17]</td>\n",
              "      <td>Interval1</td>\n",
              "    </tr>\n",
              "    <tr>\n",
              "      <th>392</th>\n",
              "      <td>21</td>\n",
              "      <td>(20, 23]</td>\n",
              "      <td>Interval3</td>\n",
              "    </tr>\n",
              "    <tr>\n",
              "      <th>393</th>\n",
              "      <td>18</td>\n",
              "      <td>(17, 20]</td>\n",
              "      <td>Interval2</td>\n",
              "    </tr>\n",
              "    <tr>\n",
              "      <th>394</th>\n",
              "      <td>19</td>\n",
              "      <td>(17, 20]</td>\n",
              "      <td>Interval2</td>\n",
              "    </tr>\n",
              "  </tbody>\n",
              "</table>\n",
              "<p>395 rows × 3 columns</p>\n",
              "</div>\n",
              "      <button class=\"colab-df-convert\" onclick=\"convertToInteractive('df-d7178636-6fde-444a-8a78-1057bb90af81')\"\n",
              "              title=\"Convert this dataframe to an interactive table.\"\n",
              "              style=\"display:none;\">\n",
              "        \n",
              "  <svg xmlns=\"http://www.w3.org/2000/svg\" height=\"24px\"viewBox=\"0 0 24 24\"\n",
              "       width=\"24px\">\n",
              "    <path d=\"M0 0h24v24H0V0z\" fill=\"none\"/>\n",
              "    <path d=\"M18.56 5.44l.94 2.06.94-2.06 2.06-.94-2.06-.94-.94-2.06-.94 2.06-2.06.94zm-11 1L8.5 8.5l.94-2.06 2.06-.94-2.06-.94L8.5 2.5l-.94 2.06-2.06.94zm10 10l.94 2.06.94-2.06 2.06-.94-2.06-.94-.94-2.06-.94 2.06-2.06.94z\"/><path d=\"M17.41 7.96l-1.37-1.37c-.4-.4-.92-.59-1.43-.59-.52 0-1.04.2-1.43.59L10.3 9.45l-7.72 7.72c-.78.78-.78 2.05 0 2.83L4 21.41c.39.39.9.59 1.41.59.51 0 1.02-.2 1.41-.59l7.78-7.78 2.81-2.81c.8-.78.8-2.07 0-2.86zM5.41 20L4 18.59l7.72-7.72 1.47 1.35L5.41 20z\"/>\n",
              "  </svg>\n",
              "      </button>\n",
              "      \n",
              "  <style>\n",
              "    .colab-df-container {\n",
              "      display:flex;\n",
              "      flex-wrap:wrap;\n",
              "      gap: 12px;\n",
              "    }\n",
              "\n",
              "    .colab-df-convert {\n",
              "      background-color: #E8F0FE;\n",
              "      border: none;\n",
              "      border-radius: 50%;\n",
              "      cursor: pointer;\n",
              "      display: none;\n",
              "      fill: #1967D2;\n",
              "      height: 32px;\n",
              "      padding: 0 0 0 0;\n",
              "      width: 32px;\n",
              "    }\n",
              "\n",
              "    .colab-df-convert:hover {\n",
              "      background-color: #E2EBFA;\n",
              "      box-shadow: 0px 1px 2px rgba(60, 64, 67, 0.3), 0px 1px 3px 1px rgba(60, 64, 67, 0.15);\n",
              "      fill: #174EA6;\n",
              "    }\n",
              "\n",
              "    [theme=dark] .colab-df-convert {\n",
              "      background-color: #3B4455;\n",
              "      fill: #D2E3FC;\n",
              "    }\n",
              "\n",
              "    [theme=dark] .colab-df-convert:hover {\n",
              "      background-color: #434B5C;\n",
              "      box-shadow: 0px 1px 3px 1px rgba(0, 0, 0, 0.15);\n",
              "      filter: drop-shadow(0px 1px 2px rgba(0, 0, 0, 0.3));\n",
              "      fill: #FFFFFF;\n",
              "    }\n",
              "  </style>\n",
              "\n",
              "      <script>\n",
              "        const buttonEl =\n",
              "          document.querySelector('#df-d7178636-6fde-444a-8a78-1057bb90af81 button.colab-df-convert');\n",
              "        buttonEl.style.display =\n",
              "          google.colab.kernel.accessAllowed ? 'block' : 'none';\n",
              "\n",
              "        async function convertToInteractive(key) {\n",
              "          const element = document.querySelector('#df-d7178636-6fde-444a-8a78-1057bb90af81');\n",
              "          const dataTable =\n",
              "            await google.colab.kernel.invokeFunction('convertToInteractive',\n",
              "                                                     [key], {});\n",
              "          if (!dataTable) return;\n",
              "\n",
              "          const docLinkHtml = 'Like what you see? Visit the ' +\n",
              "            '<a target=\"_blank\" href=https://colab.research.google.com/notebooks/data_table.ipynb>data table notebook</a>'\n",
              "            + ' to learn more about interactive tables.';\n",
              "          element.innerHTML = '';\n",
              "          dataTable['output_type'] = 'display_data';\n",
              "          await google.colab.output.renderOutput(dataTable, element);\n",
              "          const docLink = document.createElement('div');\n",
              "          docLink.innerHTML = docLinkHtml;\n",
              "          element.appendChild(docLink);\n",
              "        }\n",
              "      </script>\n",
              "    </div>\n",
              "  </div>\n",
              "  "
            ]
          },
          "metadata": {},
          "execution_count": 107
        }
      ]
    },
    {
      "cell_type": "markdown",
      "source": [
        "**Explaination:**\n",
        "\n",
        "bin = [14,17,20,23] is used to classify the interval of age from 14 to 23.\n",
        "\n",
        "\n",
        "**Code:**\n",
        " coursework['age_bins'] = pd.cut(x=coursework['age'], bins =  bin)\n",
        "\n",
        "\n",
        "Here, ['age_bins'] is a new column used to assign interval values based on the frequency in the column age.\n",
        "\n",
        "\n",
        "\n",
        "pd.cut(x=coursework['age'], bins =  bin), the cut function makes it easier to give data segments and group values into bins. It is helpful to transform continuous data into categorical data.\n",
        "\n",
        "\n",
        "\n",
        "The keyword bins stands for Interval Index. The first interval is from 14–17. The second interval starts from 17–20. The third interval starts from 20-23.\n",
        "\n",
        "\n",
        "**Code:** coursework['interval'] = pd.cut(x=coursework['age'], bins =  bin ,labels= ['Interval1', 'Interval2','Interval3'])\n",
        "\n",
        "\n",
        "\n",
        "A new column called 'interval' returns categories of every three intervals. Three label(Interval 1, Interval 2 and Interval 3) have been defined for three intervals. A student who is 20 years old falls into the third interval and the age range of 20 to 23."
      ],
      "metadata": {
        "id": "LX6w6wFO9cQ-"
      }
    },
    {
      "cell_type": "markdown",
      "source": [
        "4. Create a new column name passed (yes or no) whose values should be based on the values present in the\n",
        "G3 column (>= 8–yes, < −no)."
      ],
      "metadata": {
        "id": "NiV33hY_MQ2O"
      }
    },
    {
      "cell_type": "code",
      "source": [
        "passed = []\n",
        "for row in coursework['G3']:\n",
        "  if row < 8 :\n",
        "    passed.append('no')\n",
        "  else: passed.append('yes')\n",
        "coursework['passed'] = passed\n",
        "coursework[['G3','passed']]"
      ],
      "metadata": {
        "colab": {
          "base_uri": "https://localhost:8080/",
          "height": 424
        },
        "id": "tBSUCbNXh3w2",
        "outputId": "cae458fd-2cf0-403f-82d8-abb017229a8f"
      },
      "execution_count": null,
      "outputs": [
        {
          "output_type": "execute_result",
          "data": {
            "text/plain": [
              "     G3 passed\n",
              "0     6     no\n",
              "1     6     no\n",
              "2    10    yes\n",
              "3    15    yes\n",
              "4    10    yes\n",
              "..   ..    ...\n",
              "390   9    yes\n",
              "391  16    yes\n",
              "392   7     no\n",
              "393  10    yes\n",
              "394   9    yes\n",
              "\n",
              "[395 rows x 2 columns]"
            ],
            "text/html": [
              "\n",
              "  <div id=\"df-4ec8c255-8ced-40da-b0bb-4c2ac1049878\">\n",
              "    <div class=\"colab-df-container\">\n",
              "      <div>\n",
              "<style scoped>\n",
              "    .dataframe tbody tr th:only-of-type {\n",
              "        vertical-align: middle;\n",
              "    }\n",
              "\n",
              "    .dataframe tbody tr th {\n",
              "        vertical-align: top;\n",
              "    }\n",
              "\n",
              "    .dataframe thead th {\n",
              "        text-align: right;\n",
              "    }\n",
              "</style>\n",
              "<table border=\"1\" class=\"dataframe\">\n",
              "  <thead>\n",
              "    <tr style=\"text-align: right;\">\n",
              "      <th></th>\n",
              "      <th>G3</th>\n",
              "      <th>passed</th>\n",
              "    </tr>\n",
              "  </thead>\n",
              "  <tbody>\n",
              "    <tr>\n",
              "      <th>0</th>\n",
              "      <td>6</td>\n",
              "      <td>no</td>\n",
              "    </tr>\n",
              "    <tr>\n",
              "      <th>1</th>\n",
              "      <td>6</td>\n",
              "      <td>no</td>\n",
              "    </tr>\n",
              "    <tr>\n",
              "      <th>2</th>\n",
              "      <td>10</td>\n",
              "      <td>yes</td>\n",
              "    </tr>\n",
              "    <tr>\n",
              "      <th>3</th>\n",
              "      <td>15</td>\n",
              "      <td>yes</td>\n",
              "    </tr>\n",
              "    <tr>\n",
              "      <th>4</th>\n",
              "      <td>10</td>\n",
              "      <td>yes</td>\n",
              "    </tr>\n",
              "    <tr>\n",
              "      <th>...</th>\n",
              "      <td>...</td>\n",
              "      <td>...</td>\n",
              "    </tr>\n",
              "    <tr>\n",
              "      <th>390</th>\n",
              "      <td>9</td>\n",
              "      <td>yes</td>\n",
              "    </tr>\n",
              "    <tr>\n",
              "      <th>391</th>\n",
              "      <td>16</td>\n",
              "      <td>yes</td>\n",
              "    </tr>\n",
              "    <tr>\n",
              "      <th>392</th>\n",
              "      <td>7</td>\n",
              "      <td>no</td>\n",
              "    </tr>\n",
              "    <tr>\n",
              "      <th>393</th>\n",
              "      <td>10</td>\n",
              "      <td>yes</td>\n",
              "    </tr>\n",
              "    <tr>\n",
              "      <th>394</th>\n",
              "      <td>9</td>\n",
              "      <td>yes</td>\n",
              "    </tr>\n",
              "  </tbody>\n",
              "</table>\n",
              "<p>395 rows × 2 columns</p>\n",
              "</div>\n",
              "      <button class=\"colab-df-convert\" onclick=\"convertToInteractive('df-4ec8c255-8ced-40da-b0bb-4c2ac1049878')\"\n",
              "              title=\"Convert this dataframe to an interactive table.\"\n",
              "              style=\"display:none;\">\n",
              "        \n",
              "  <svg xmlns=\"http://www.w3.org/2000/svg\" height=\"24px\"viewBox=\"0 0 24 24\"\n",
              "       width=\"24px\">\n",
              "    <path d=\"M0 0h24v24H0V0z\" fill=\"none\"/>\n",
              "    <path d=\"M18.56 5.44l.94 2.06.94-2.06 2.06-.94-2.06-.94-.94-2.06-.94 2.06-2.06.94zm-11 1L8.5 8.5l.94-2.06 2.06-.94-2.06-.94L8.5 2.5l-.94 2.06-2.06.94zm10 10l.94 2.06.94-2.06 2.06-.94-2.06-.94-.94-2.06-.94 2.06-2.06.94z\"/><path d=\"M17.41 7.96l-1.37-1.37c-.4-.4-.92-.59-1.43-.59-.52 0-1.04.2-1.43.59L10.3 9.45l-7.72 7.72c-.78.78-.78 2.05 0 2.83L4 21.41c.39.39.9.59 1.41.59.51 0 1.02-.2 1.41-.59l7.78-7.78 2.81-2.81c.8-.78.8-2.07 0-2.86zM5.41 20L4 18.59l7.72-7.72 1.47 1.35L5.41 20z\"/>\n",
              "  </svg>\n",
              "      </button>\n",
              "      \n",
              "  <style>\n",
              "    .colab-df-container {\n",
              "      display:flex;\n",
              "      flex-wrap:wrap;\n",
              "      gap: 12px;\n",
              "    }\n",
              "\n",
              "    .colab-df-convert {\n",
              "      background-color: #E8F0FE;\n",
              "      border: none;\n",
              "      border-radius: 50%;\n",
              "      cursor: pointer;\n",
              "      display: none;\n",
              "      fill: #1967D2;\n",
              "      height: 32px;\n",
              "      padding: 0 0 0 0;\n",
              "      width: 32px;\n",
              "    }\n",
              "\n",
              "    .colab-df-convert:hover {\n",
              "      background-color: #E2EBFA;\n",
              "      box-shadow: 0px 1px 2px rgba(60, 64, 67, 0.3), 0px 1px 3px 1px rgba(60, 64, 67, 0.15);\n",
              "      fill: #174EA6;\n",
              "    }\n",
              "\n",
              "    [theme=dark] .colab-df-convert {\n",
              "      background-color: #3B4455;\n",
              "      fill: #D2E3FC;\n",
              "    }\n",
              "\n",
              "    [theme=dark] .colab-df-convert:hover {\n",
              "      background-color: #434B5C;\n",
              "      box-shadow: 0px 1px 3px 1px rgba(0, 0, 0, 0.15);\n",
              "      filter: drop-shadow(0px 1px 2px rgba(0, 0, 0, 0.3));\n",
              "      fill: #FFFFFF;\n",
              "    }\n",
              "  </style>\n",
              "\n",
              "      <script>\n",
              "        const buttonEl =\n",
              "          document.querySelector('#df-4ec8c255-8ced-40da-b0bb-4c2ac1049878 button.colab-df-convert');\n",
              "        buttonEl.style.display =\n",
              "          google.colab.kernel.accessAllowed ? 'block' : 'none';\n",
              "\n",
              "        async function convertToInteractive(key) {\n",
              "          const element = document.querySelector('#df-4ec8c255-8ced-40da-b0bb-4c2ac1049878');\n",
              "          const dataTable =\n",
              "            await google.colab.kernel.invokeFunction('convertToInteractive',\n",
              "                                                     [key], {});\n",
              "          if (!dataTable) return;\n",
              "\n",
              "          const docLinkHtml = 'Like what you see? Visit the ' +\n",
              "            '<a target=\"_blank\" href=https://colab.research.google.com/notebooks/data_table.ipynb>data table notebook</a>'\n",
              "            + ' to learn more about interactive tables.';\n",
              "          element.innerHTML = '';\n",
              "          dataTable['output_type'] = 'display_data';\n",
              "          await google.colab.output.renderOutput(dataTable, element);\n",
              "          const docLink = document.createElement('div');\n",
              "          docLink.innerHTML = docLinkHtml;\n",
              "          element.appendChild(docLink);\n",
              "        }\n",
              "      </script>\n",
              "    </div>\n",
              "  </div>\n",
              "  "
            ]
          },
          "metadata": {},
          "execution_count": 110
        }
      ]
    },
    {
      "cell_type": "markdown",
      "source": [
        "**Explaination:**\n",
        "\n",
        "Every value in column G3 is initially checked to see if it is greater than 8 or not using an if statement. A yes value is  appended to the list passed if a value is greater than 8. If not, nothing is added to the list that was passed.\n",
        "After that, a column of the passed list is printed."
      ],
      "metadata": {
        "id": "DtE0VajR-M36"
      }
    },
    {
      "cell_type": "code",
      "source": [
        "coursework.tail()"
      ],
      "metadata": {
        "id": "rMXjEI0GNcWK",
        "colab": {
          "base_uri": "https://localhost:8080/",
          "height": 491
        },
        "outputId": "1eb40c96-37ea-4ccf-bc09-d27df1b0b2c3"
      },
      "execution_count": null,
      "outputs": [
        {
          "output_type": "execute_result",
          "data": {
            "text/plain": [
              "    school sex  age address famsize Pstatus                           Medu  \\\n",
              "390     MS   M   20       U     LE3       A               5th to 9th grade   \n",
              "391     MS   M   17       U     LE3       T            secondary education   \n",
              "392     MS   M   21       R     GT3       T  primary education (4th grade)   \n",
              "393     MS   M   18       R     LE3       T            secondary education   \n",
              "394     MS   M   19       U     LE3       T  primary education (4th grade)   \n",
              "\n",
              "                              Fedu      Mjob      Fjob  ... Medu_ordinal  \\\n",
              "390               5th to 9th grade  services  services  ...            4   \n",
              "391  primary education (4th grade)  services  services  ...            3   \n",
              "392  primary education (4th grade)     other     other  ...            2   \n",
              "393               5th to 9th grade  services     other  ...            3   \n",
              "394  primary education (4th grade)     other   at_home  ...            2   \n",
              "\n",
              "    Fedu_ordinal reason_ordinal guardian_ordinal  studytime_ordinal  \\\n",
              "390            3              1                3                  1   \n",
              "391            2              1                1                  3   \n",
              "392            2              1                3                  3   \n",
              "393            3              1                1                  3   \n",
              "394            2              1                2                  3   \n",
              "\n",
              "    freetime_ordinal health_ordinal  age_bins   interval passed  \n",
              "390                5              5  (17, 20]  Interval2    yes  \n",
              "391                3              4  (14, 17]  Interval1    yes  \n",
              "392                5              1  (20, 23]  Interval3     no  \n",
              "393                3              2  (17, 20]  Interval2    yes  \n",
              "394                2              2  (17, 20]  Interval2    yes  \n",
              "\n",
              "[5 rows x 52 columns]"
            ],
            "text/html": [
              "\n",
              "  <div id=\"df-69e9171f-d455-4f00-a700-dd36e356f6f1\">\n",
              "    <div class=\"colab-df-container\">\n",
              "      <div>\n",
              "<style scoped>\n",
              "    .dataframe tbody tr th:only-of-type {\n",
              "        vertical-align: middle;\n",
              "    }\n",
              "\n",
              "    .dataframe tbody tr th {\n",
              "        vertical-align: top;\n",
              "    }\n",
              "\n",
              "    .dataframe thead th {\n",
              "        text-align: right;\n",
              "    }\n",
              "</style>\n",
              "<table border=\"1\" class=\"dataframe\">\n",
              "  <thead>\n",
              "    <tr style=\"text-align: right;\">\n",
              "      <th></th>\n",
              "      <th>school</th>\n",
              "      <th>sex</th>\n",
              "      <th>age</th>\n",
              "      <th>address</th>\n",
              "      <th>famsize</th>\n",
              "      <th>Pstatus</th>\n",
              "      <th>Medu</th>\n",
              "      <th>Fedu</th>\n",
              "      <th>Mjob</th>\n",
              "      <th>Fjob</th>\n",
              "      <th>...</th>\n",
              "      <th>Medu_ordinal</th>\n",
              "      <th>Fedu_ordinal</th>\n",
              "      <th>reason_ordinal</th>\n",
              "      <th>guardian_ordinal</th>\n",
              "      <th>studytime_ordinal</th>\n",
              "      <th>freetime_ordinal</th>\n",
              "      <th>health_ordinal</th>\n",
              "      <th>age_bins</th>\n",
              "      <th>interval</th>\n",
              "      <th>passed</th>\n",
              "    </tr>\n",
              "  </thead>\n",
              "  <tbody>\n",
              "    <tr>\n",
              "      <th>390</th>\n",
              "      <td>MS</td>\n",
              "      <td>M</td>\n",
              "      <td>20</td>\n",
              "      <td>U</td>\n",
              "      <td>LE3</td>\n",
              "      <td>A</td>\n",
              "      <td>5th to 9th grade</td>\n",
              "      <td>5th to 9th grade</td>\n",
              "      <td>services</td>\n",
              "      <td>services</td>\n",
              "      <td>...</td>\n",
              "      <td>4</td>\n",
              "      <td>3</td>\n",
              "      <td>1</td>\n",
              "      <td>3</td>\n",
              "      <td>1</td>\n",
              "      <td>5</td>\n",
              "      <td>5</td>\n",
              "      <td>(17, 20]</td>\n",
              "      <td>Interval2</td>\n",
              "      <td>yes</td>\n",
              "    </tr>\n",
              "    <tr>\n",
              "      <th>391</th>\n",
              "      <td>MS</td>\n",
              "      <td>M</td>\n",
              "      <td>17</td>\n",
              "      <td>U</td>\n",
              "      <td>LE3</td>\n",
              "      <td>T</td>\n",
              "      <td>secondary education</td>\n",
              "      <td>primary education (4th grade)</td>\n",
              "      <td>services</td>\n",
              "      <td>services</td>\n",
              "      <td>...</td>\n",
              "      <td>3</td>\n",
              "      <td>2</td>\n",
              "      <td>1</td>\n",
              "      <td>1</td>\n",
              "      <td>3</td>\n",
              "      <td>3</td>\n",
              "      <td>4</td>\n",
              "      <td>(14, 17]</td>\n",
              "      <td>Interval1</td>\n",
              "      <td>yes</td>\n",
              "    </tr>\n",
              "    <tr>\n",
              "      <th>392</th>\n",
              "      <td>MS</td>\n",
              "      <td>M</td>\n",
              "      <td>21</td>\n",
              "      <td>R</td>\n",
              "      <td>GT3</td>\n",
              "      <td>T</td>\n",
              "      <td>primary education (4th grade)</td>\n",
              "      <td>primary education (4th grade)</td>\n",
              "      <td>other</td>\n",
              "      <td>other</td>\n",
              "      <td>...</td>\n",
              "      <td>2</td>\n",
              "      <td>2</td>\n",
              "      <td>1</td>\n",
              "      <td>3</td>\n",
              "      <td>3</td>\n",
              "      <td>5</td>\n",
              "      <td>1</td>\n",
              "      <td>(20, 23]</td>\n",
              "      <td>Interval3</td>\n",
              "      <td>no</td>\n",
              "    </tr>\n",
              "    <tr>\n",
              "      <th>393</th>\n",
              "      <td>MS</td>\n",
              "      <td>M</td>\n",
              "      <td>18</td>\n",
              "      <td>R</td>\n",
              "      <td>LE3</td>\n",
              "      <td>T</td>\n",
              "      <td>secondary education</td>\n",
              "      <td>5th to 9th grade</td>\n",
              "      <td>services</td>\n",
              "      <td>other</td>\n",
              "      <td>...</td>\n",
              "      <td>3</td>\n",
              "      <td>3</td>\n",
              "      <td>1</td>\n",
              "      <td>1</td>\n",
              "      <td>3</td>\n",
              "      <td>3</td>\n",
              "      <td>2</td>\n",
              "      <td>(17, 20]</td>\n",
              "      <td>Interval2</td>\n",
              "      <td>yes</td>\n",
              "    </tr>\n",
              "    <tr>\n",
              "      <th>394</th>\n",
              "      <td>MS</td>\n",
              "      <td>M</td>\n",
              "      <td>19</td>\n",
              "      <td>U</td>\n",
              "      <td>LE3</td>\n",
              "      <td>T</td>\n",
              "      <td>primary education (4th grade)</td>\n",
              "      <td>primary education (4th grade)</td>\n",
              "      <td>other</td>\n",
              "      <td>at_home</td>\n",
              "      <td>...</td>\n",
              "      <td>2</td>\n",
              "      <td>2</td>\n",
              "      <td>1</td>\n",
              "      <td>2</td>\n",
              "      <td>3</td>\n",
              "      <td>2</td>\n",
              "      <td>2</td>\n",
              "      <td>(17, 20]</td>\n",
              "      <td>Interval2</td>\n",
              "      <td>yes</td>\n",
              "    </tr>\n",
              "  </tbody>\n",
              "</table>\n",
              "<p>5 rows × 52 columns</p>\n",
              "</div>\n",
              "      <button class=\"colab-df-convert\" onclick=\"convertToInteractive('df-69e9171f-d455-4f00-a700-dd36e356f6f1')\"\n",
              "              title=\"Convert this dataframe to an interactive table.\"\n",
              "              style=\"display:none;\">\n",
              "        \n",
              "  <svg xmlns=\"http://www.w3.org/2000/svg\" height=\"24px\"viewBox=\"0 0 24 24\"\n",
              "       width=\"24px\">\n",
              "    <path d=\"M0 0h24v24H0V0z\" fill=\"none\"/>\n",
              "    <path d=\"M18.56 5.44l.94 2.06.94-2.06 2.06-.94-2.06-.94-.94-2.06-.94 2.06-2.06.94zm-11 1L8.5 8.5l.94-2.06 2.06-.94-2.06-.94L8.5 2.5l-.94 2.06-2.06.94zm10 10l.94 2.06.94-2.06 2.06-.94-2.06-.94-.94-2.06-.94 2.06-2.06.94z\"/><path d=\"M17.41 7.96l-1.37-1.37c-.4-.4-.92-.59-1.43-.59-.52 0-1.04.2-1.43.59L10.3 9.45l-7.72 7.72c-.78.78-.78 2.05 0 2.83L4 21.41c.39.39.9.59 1.41.59.51 0 1.02-.2 1.41-.59l7.78-7.78 2.81-2.81c.8-.78.8-2.07 0-2.86zM5.41 20L4 18.59l7.72-7.72 1.47 1.35L5.41 20z\"/>\n",
              "  </svg>\n",
              "      </button>\n",
              "      \n",
              "  <style>\n",
              "    .colab-df-container {\n",
              "      display:flex;\n",
              "      flex-wrap:wrap;\n",
              "      gap: 12px;\n",
              "    }\n",
              "\n",
              "    .colab-df-convert {\n",
              "      background-color: #E8F0FE;\n",
              "      border: none;\n",
              "      border-radius: 50%;\n",
              "      cursor: pointer;\n",
              "      display: none;\n",
              "      fill: #1967D2;\n",
              "      height: 32px;\n",
              "      padding: 0 0 0 0;\n",
              "      width: 32px;\n",
              "    }\n",
              "\n",
              "    .colab-df-convert:hover {\n",
              "      background-color: #E2EBFA;\n",
              "      box-shadow: 0px 1px 2px rgba(60, 64, 67, 0.3), 0px 1px 3px 1px rgba(60, 64, 67, 0.15);\n",
              "      fill: #174EA6;\n",
              "    }\n",
              "\n",
              "    [theme=dark] .colab-df-convert {\n",
              "      background-color: #3B4455;\n",
              "      fill: #D2E3FC;\n",
              "    }\n",
              "\n",
              "    [theme=dark] .colab-df-convert:hover {\n",
              "      background-color: #434B5C;\n",
              "      box-shadow: 0px 1px 3px 1px rgba(0, 0, 0, 0.15);\n",
              "      filter: drop-shadow(0px 1px 2px rgba(0, 0, 0, 0.3));\n",
              "      fill: #FFFFFF;\n",
              "    }\n",
              "  </style>\n",
              "\n",
              "      <script>\n",
              "        const buttonEl =\n",
              "          document.querySelector('#df-69e9171f-d455-4f00-a700-dd36e356f6f1 button.colab-df-convert');\n",
              "        buttonEl.style.display =\n",
              "          google.colab.kernel.accessAllowed ? 'block' : 'none';\n",
              "\n",
              "        async function convertToInteractive(key) {\n",
              "          const element = document.querySelector('#df-69e9171f-d455-4f00-a700-dd36e356f6f1');\n",
              "          const dataTable =\n",
              "            await google.colab.kernel.invokeFunction('convertToInteractive',\n",
              "                                                     [key], {});\n",
              "          if (!dataTable) return;\n",
              "\n",
              "          const docLinkHtml = 'Like what you see? Visit the ' +\n",
              "            '<a target=\"_blank\" href=https://colab.research.google.com/notebooks/data_table.ipynb>data table notebook</a>'\n",
              "            + ' to learn more about interactive tables.';\n",
              "          element.innerHTML = '';\n",
              "          dataTable['output_type'] = 'display_data';\n",
              "          await google.colab.output.renderOutput(dataTable, element);\n",
              "          const docLink = document.createElement('div');\n",
              "          docLink.innerHTML = docLinkHtml;\n",
              "          element.appendChild(docLink);\n",
              "        }\n",
              "      </script>\n",
              "    </div>\n",
              "  </div>\n",
              "  "
            ]
          },
          "metadata": {},
          "execution_count": 111
        }
      ]
    },
    {
      "cell_type": "markdown",
      "source": [
        "**Explaination:**\n",
        "\n",
        "coursework.tail() is used to display the last few data of dataset by default."
      ],
      "metadata": {
        "id": "H704DvGJ-qao"
      }
    },
    {
      "cell_type": "markdown",
      "source": [
        "**6.3 Descriptive Analysis:**\n",
        "\n",
        "Write a code to show the summary statistic (sum, mean, median, standard deviation, max, and min) of the\n",
        "variables age, absences, G1, G2, and G3)."
      ],
      "metadata": {
        "id": "mEivYvh4PX6p"
      }
    },
    {
      "cell_type": "code",
      "source": [
        "for data_column in coursework:\n",
        "  if data_column in [\"age\", \"absences\", \"G1\", \"G2\", \"G3\"]:\n",
        "    print (\"Column Name: \",data_column)\n",
        "\n",
        "    print ('Sum = ', coursework[data_column].sum())\n",
        "\n",
        "    print('Mean = {:.2f}'.format(coursework[data_column].mean()))\n",
        "\n",
        "    print('Median = ',coursework[data_column].median())\n",
        "\n",
        "    print('Standard Deviation = {:.2f}'.format(coursework[data_column].std()))\n",
        "\n",
        "    print('Maximum = ',coursework[data_column].max())\n",
        "\n",
        "    print('Minimum = ',coursework[data_column].min())\n",
        "    print('\\n')"
      ],
      "metadata": {
        "id": "GBbzIZmPE7rs",
        "colab": {
          "base_uri": "https://localhost:8080/"
        },
        "outputId": "475f2b97-6bd2-4c77-c659-67fdd7f57c7e"
      },
      "execution_count": null,
      "outputs": [
        {
          "output_type": "stream",
          "name": "stdout",
          "text": [
            "Column Name:  age\n",
            "Sum =  6595\n",
            "Mean = 16.70\n",
            "Median =  17.0\n",
            "Standard Deviation = 1.28\n",
            "Maximum =  22\n",
            "Minimum =  15\n",
            "\n",
            "\n",
            "Column Name:  absences\n",
            "Sum =  2255\n",
            "Mean = 5.71\n",
            "Median =  4.0\n",
            "Standard Deviation = 8.00\n",
            "Maximum =  75\n",
            "Minimum =  0\n",
            "\n",
            "\n",
            "Column Name:  G1\n",
            "Sum =  4309\n",
            "Mean = 10.91\n",
            "Median =  11.0\n",
            "Standard Deviation = 3.32\n",
            "Maximum =  19\n",
            "Minimum =  3\n",
            "\n",
            "\n",
            "Column Name:  G2\n",
            "Sum =  4232\n",
            "Mean = 10.71\n",
            "Median =  11.0\n",
            "Standard Deviation = 3.76\n",
            "Maximum =  19\n",
            "Minimum =  0\n",
            "\n",
            "\n",
            "Column Name:  G3\n",
            "Sum =  4114\n",
            "Mean = 10.42\n",
            "Median =  11.0\n",
            "Standard Deviation = 4.58\n",
            "Maximum =  20\n",
            "Minimum =  0\n",
            "\n",
            "\n"
          ]
        }
      ]
    },
    {
      "cell_type": "markdown",
      "source": [
        "**Explaination:**\n",
        "\n",
        " The above code calculates the mean,median,standard deviation,maximum,minimum of the variables (age, absences, G1, G2, and G3) and prints the output."
      ],
      "metadata": {
        "id": "HQZFu-T0Dxz2"
      }
    },
    {
      "cell_type": "code",
      "source": [
        "coursework.describe()"
      ],
      "metadata": {
        "id": "vqo_6KdYSX1k",
        "colab": {
          "base_uri": "https://localhost:8080/",
          "height": 394
        },
        "outputId": "0d2a7071-949f-4e7d-cece-3bb7a97ca33d"
      },
      "execution_count": null,
      "outputs": [
        {
          "output_type": "execute_result",
          "data": {
            "text/plain": [
              "              age    failures    absences          G1          G2          G3  \\\n",
              "count  395.000000  395.000000  395.000000  395.000000  395.000000  395.000000   \n",
              "mean    16.696203    0.334177    5.708861   10.908861   10.713924   10.415190   \n",
              "std      1.276043    0.743651    8.003096    3.319195    3.761505    4.581443   \n",
              "min     15.000000    0.000000    0.000000    3.000000    0.000000    0.000000   \n",
              "25%     16.000000    0.000000    0.000000    8.000000    9.000000    8.000000   \n",
              "50%     17.000000    0.000000    4.000000   11.000000   11.000000   11.000000   \n",
              "75%     18.000000    0.000000    8.000000   13.000000   13.000000   14.000000   \n",
              "max     22.000000    3.000000   75.000000   19.000000   19.000000   20.000000   \n",
              "\n",
              "       school_binary  sex_binary  address_binary  schoolsup_binary  ...  \\\n",
              "count     395.000000  395.000000      395.000000        395.000000  ...   \n",
              "mean        0.116456    0.473418        0.777215          0.129114  ...   \n",
              "std         0.321177    0.499926        0.416643          0.335751  ...   \n",
              "min         0.000000    0.000000        0.000000          0.000000  ...   \n",
              "25%         0.000000    0.000000        1.000000          0.000000  ...   \n",
              "50%         0.000000    0.000000        1.000000          0.000000  ...   \n",
              "75%         0.000000    1.000000        1.000000          0.000000  ...   \n",
              "max         1.000000    1.000000        1.000000          1.000000  ...   \n",
              "\n",
              "       nursery_binary  internet_binary  romantic_binary  Medu_ordinal  \\\n",
              "count      395.000000       395.000000       395.000000    395.000000   \n",
              "mean         0.794937         0.832911         0.334177      2.463291   \n",
              "std          0.404260         0.373528         0.472300      1.217697   \n",
              "min          0.000000         0.000000         0.000000      1.000000   \n",
              "25%          1.000000         1.000000         0.000000      1.000000   \n",
              "50%          1.000000         1.000000         0.000000      3.000000   \n",
              "75%          1.000000         1.000000         1.000000      4.000000   \n",
              "max          1.000000         1.000000         1.000000      5.000000   \n",
              "\n",
              "       Fedu_ordinal  reason_ordinal  guardian_ordinal  studytime_ordinal  \\\n",
              "count    395.000000      395.000000        395.000000         395.000000   \n",
              "mean       2.569620        2.440506          1.389873           1.901266   \n",
              "std        1.127456        1.231309          0.633176           1.016550   \n",
              "min        1.000000        1.000000          1.000000           1.000000   \n",
              "25%        2.000000        1.000000          1.000000           1.000000   \n",
              "50%        3.000000        3.000000          1.000000           1.000000   \n",
              "75%        4.000000        4.000000          2.000000           3.000000   \n",
              "max        5.000000        4.000000          3.000000           4.000000   \n",
              "\n",
              "       freetime_ordinal  health_ordinal  \n",
              "count        395.000000      395.000000  \n",
              "mean           2.293671        2.617722  \n",
              "std            1.307858        1.390026  \n",
              "min            1.000000        1.000000  \n",
              "25%            1.000000        2.000000  \n",
              "50%            2.000000        2.000000  \n",
              "75%            3.000000        4.000000  \n",
              "max            5.000000        5.000000  \n",
              "\n",
              "[8 rows x 22 columns]"
            ],
            "text/html": [
              "\n",
              "  <div id=\"df-08ba421e-cc2c-4b6c-a8f0-e1bb223b1610\">\n",
              "    <div class=\"colab-df-container\">\n",
              "      <div>\n",
              "<style scoped>\n",
              "    .dataframe tbody tr th:only-of-type {\n",
              "        vertical-align: middle;\n",
              "    }\n",
              "\n",
              "    .dataframe tbody tr th {\n",
              "        vertical-align: top;\n",
              "    }\n",
              "\n",
              "    .dataframe thead th {\n",
              "        text-align: right;\n",
              "    }\n",
              "</style>\n",
              "<table border=\"1\" class=\"dataframe\">\n",
              "  <thead>\n",
              "    <tr style=\"text-align: right;\">\n",
              "      <th></th>\n",
              "      <th>age</th>\n",
              "      <th>failures</th>\n",
              "      <th>absences</th>\n",
              "      <th>G1</th>\n",
              "      <th>G2</th>\n",
              "      <th>G3</th>\n",
              "      <th>school_binary</th>\n",
              "      <th>sex_binary</th>\n",
              "      <th>address_binary</th>\n",
              "      <th>schoolsup_binary</th>\n",
              "      <th>...</th>\n",
              "      <th>nursery_binary</th>\n",
              "      <th>internet_binary</th>\n",
              "      <th>romantic_binary</th>\n",
              "      <th>Medu_ordinal</th>\n",
              "      <th>Fedu_ordinal</th>\n",
              "      <th>reason_ordinal</th>\n",
              "      <th>guardian_ordinal</th>\n",
              "      <th>studytime_ordinal</th>\n",
              "      <th>freetime_ordinal</th>\n",
              "      <th>health_ordinal</th>\n",
              "    </tr>\n",
              "  </thead>\n",
              "  <tbody>\n",
              "    <tr>\n",
              "      <th>count</th>\n",
              "      <td>395.000000</td>\n",
              "      <td>395.000000</td>\n",
              "      <td>395.000000</td>\n",
              "      <td>395.000000</td>\n",
              "      <td>395.000000</td>\n",
              "      <td>395.000000</td>\n",
              "      <td>395.000000</td>\n",
              "      <td>395.000000</td>\n",
              "      <td>395.000000</td>\n",
              "      <td>395.000000</td>\n",
              "      <td>...</td>\n",
              "      <td>395.000000</td>\n",
              "      <td>395.000000</td>\n",
              "      <td>395.000000</td>\n",
              "      <td>395.000000</td>\n",
              "      <td>395.000000</td>\n",
              "      <td>395.000000</td>\n",
              "      <td>395.000000</td>\n",
              "      <td>395.000000</td>\n",
              "      <td>395.000000</td>\n",
              "      <td>395.000000</td>\n",
              "    </tr>\n",
              "    <tr>\n",
              "      <th>mean</th>\n",
              "      <td>16.696203</td>\n",
              "      <td>0.334177</td>\n",
              "      <td>5.708861</td>\n",
              "      <td>10.908861</td>\n",
              "      <td>10.713924</td>\n",
              "      <td>10.415190</td>\n",
              "      <td>0.116456</td>\n",
              "      <td>0.473418</td>\n",
              "      <td>0.777215</td>\n",
              "      <td>0.129114</td>\n",
              "      <td>...</td>\n",
              "      <td>0.794937</td>\n",
              "      <td>0.832911</td>\n",
              "      <td>0.334177</td>\n",
              "      <td>2.463291</td>\n",
              "      <td>2.569620</td>\n",
              "      <td>2.440506</td>\n",
              "      <td>1.389873</td>\n",
              "      <td>1.901266</td>\n",
              "      <td>2.293671</td>\n",
              "      <td>2.617722</td>\n",
              "    </tr>\n",
              "    <tr>\n",
              "      <th>std</th>\n",
              "      <td>1.276043</td>\n",
              "      <td>0.743651</td>\n",
              "      <td>8.003096</td>\n",
              "      <td>3.319195</td>\n",
              "      <td>3.761505</td>\n",
              "      <td>4.581443</td>\n",
              "      <td>0.321177</td>\n",
              "      <td>0.499926</td>\n",
              "      <td>0.416643</td>\n",
              "      <td>0.335751</td>\n",
              "      <td>...</td>\n",
              "      <td>0.404260</td>\n",
              "      <td>0.373528</td>\n",
              "      <td>0.472300</td>\n",
              "      <td>1.217697</td>\n",
              "      <td>1.127456</td>\n",
              "      <td>1.231309</td>\n",
              "      <td>0.633176</td>\n",
              "      <td>1.016550</td>\n",
              "      <td>1.307858</td>\n",
              "      <td>1.390026</td>\n",
              "    </tr>\n",
              "    <tr>\n",
              "      <th>min</th>\n",
              "      <td>15.000000</td>\n",
              "      <td>0.000000</td>\n",
              "      <td>0.000000</td>\n",
              "      <td>3.000000</td>\n",
              "      <td>0.000000</td>\n",
              "      <td>0.000000</td>\n",
              "      <td>0.000000</td>\n",
              "      <td>0.000000</td>\n",
              "      <td>0.000000</td>\n",
              "      <td>0.000000</td>\n",
              "      <td>...</td>\n",
              "      <td>0.000000</td>\n",
              "      <td>0.000000</td>\n",
              "      <td>0.000000</td>\n",
              "      <td>1.000000</td>\n",
              "      <td>1.000000</td>\n",
              "      <td>1.000000</td>\n",
              "      <td>1.000000</td>\n",
              "      <td>1.000000</td>\n",
              "      <td>1.000000</td>\n",
              "      <td>1.000000</td>\n",
              "    </tr>\n",
              "    <tr>\n",
              "      <th>25%</th>\n",
              "      <td>16.000000</td>\n",
              "      <td>0.000000</td>\n",
              "      <td>0.000000</td>\n",
              "      <td>8.000000</td>\n",
              "      <td>9.000000</td>\n",
              "      <td>8.000000</td>\n",
              "      <td>0.000000</td>\n",
              "      <td>0.000000</td>\n",
              "      <td>1.000000</td>\n",
              "      <td>0.000000</td>\n",
              "      <td>...</td>\n",
              "      <td>1.000000</td>\n",
              "      <td>1.000000</td>\n",
              "      <td>0.000000</td>\n",
              "      <td>1.000000</td>\n",
              "      <td>2.000000</td>\n",
              "      <td>1.000000</td>\n",
              "      <td>1.000000</td>\n",
              "      <td>1.000000</td>\n",
              "      <td>1.000000</td>\n",
              "      <td>2.000000</td>\n",
              "    </tr>\n",
              "    <tr>\n",
              "      <th>50%</th>\n",
              "      <td>17.000000</td>\n",
              "      <td>0.000000</td>\n",
              "      <td>4.000000</td>\n",
              "      <td>11.000000</td>\n",
              "      <td>11.000000</td>\n",
              "      <td>11.000000</td>\n",
              "      <td>0.000000</td>\n",
              "      <td>0.000000</td>\n",
              "      <td>1.000000</td>\n",
              "      <td>0.000000</td>\n",
              "      <td>...</td>\n",
              "      <td>1.000000</td>\n",
              "      <td>1.000000</td>\n",
              "      <td>0.000000</td>\n",
              "      <td>3.000000</td>\n",
              "      <td>3.000000</td>\n",
              "      <td>3.000000</td>\n",
              "      <td>1.000000</td>\n",
              "      <td>1.000000</td>\n",
              "      <td>2.000000</td>\n",
              "      <td>2.000000</td>\n",
              "    </tr>\n",
              "    <tr>\n",
              "      <th>75%</th>\n",
              "      <td>18.000000</td>\n",
              "      <td>0.000000</td>\n",
              "      <td>8.000000</td>\n",
              "      <td>13.000000</td>\n",
              "      <td>13.000000</td>\n",
              "      <td>14.000000</td>\n",
              "      <td>0.000000</td>\n",
              "      <td>1.000000</td>\n",
              "      <td>1.000000</td>\n",
              "      <td>0.000000</td>\n",
              "      <td>...</td>\n",
              "      <td>1.000000</td>\n",
              "      <td>1.000000</td>\n",
              "      <td>1.000000</td>\n",
              "      <td>4.000000</td>\n",
              "      <td>4.000000</td>\n",
              "      <td>4.000000</td>\n",
              "      <td>2.000000</td>\n",
              "      <td>3.000000</td>\n",
              "      <td>3.000000</td>\n",
              "      <td>4.000000</td>\n",
              "    </tr>\n",
              "    <tr>\n",
              "      <th>max</th>\n",
              "      <td>22.000000</td>\n",
              "      <td>3.000000</td>\n",
              "      <td>75.000000</td>\n",
              "      <td>19.000000</td>\n",
              "      <td>19.000000</td>\n",
              "      <td>20.000000</td>\n",
              "      <td>1.000000</td>\n",
              "      <td>1.000000</td>\n",
              "      <td>1.000000</td>\n",
              "      <td>1.000000</td>\n",
              "      <td>...</td>\n",
              "      <td>1.000000</td>\n",
              "      <td>1.000000</td>\n",
              "      <td>1.000000</td>\n",
              "      <td>5.000000</td>\n",
              "      <td>5.000000</td>\n",
              "      <td>4.000000</td>\n",
              "      <td>3.000000</td>\n",
              "      <td>4.000000</td>\n",
              "      <td>5.000000</td>\n",
              "      <td>5.000000</td>\n",
              "    </tr>\n",
              "  </tbody>\n",
              "</table>\n",
              "<p>8 rows × 22 columns</p>\n",
              "</div>\n",
              "      <button class=\"colab-df-convert\" onclick=\"convertToInteractive('df-08ba421e-cc2c-4b6c-a8f0-e1bb223b1610')\"\n",
              "              title=\"Convert this dataframe to an interactive table.\"\n",
              "              style=\"display:none;\">\n",
              "        \n",
              "  <svg xmlns=\"http://www.w3.org/2000/svg\" height=\"24px\"viewBox=\"0 0 24 24\"\n",
              "       width=\"24px\">\n",
              "    <path d=\"M0 0h24v24H0V0z\" fill=\"none\"/>\n",
              "    <path d=\"M18.56 5.44l.94 2.06.94-2.06 2.06-.94-2.06-.94-.94-2.06-.94 2.06-2.06.94zm-11 1L8.5 8.5l.94-2.06 2.06-.94-2.06-.94L8.5 2.5l-.94 2.06-2.06.94zm10 10l.94 2.06.94-2.06 2.06-.94-2.06-.94-.94-2.06-.94 2.06-2.06.94z\"/><path d=\"M17.41 7.96l-1.37-1.37c-.4-.4-.92-.59-1.43-.59-.52 0-1.04.2-1.43.59L10.3 9.45l-7.72 7.72c-.78.78-.78 2.05 0 2.83L4 21.41c.39.39.9.59 1.41.59.51 0 1.02-.2 1.41-.59l7.78-7.78 2.81-2.81c.8-.78.8-2.07 0-2.86zM5.41 20L4 18.59l7.72-7.72 1.47 1.35L5.41 20z\"/>\n",
              "  </svg>\n",
              "      </button>\n",
              "      \n",
              "  <style>\n",
              "    .colab-df-container {\n",
              "      display:flex;\n",
              "      flex-wrap:wrap;\n",
              "      gap: 12px;\n",
              "    }\n",
              "\n",
              "    .colab-df-convert {\n",
              "      background-color: #E8F0FE;\n",
              "      border: none;\n",
              "      border-radius: 50%;\n",
              "      cursor: pointer;\n",
              "      display: none;\n",
              "      fill: #1967D2;\n",
              "      height: 32px;\n",
              "      padding: 0 0 0 0;\n",
              "      width: 32px;\n",
              "    }\n",
              "\n",
              "    .colab-df-convert:hover {\n",
              "      background-color: #E2EBFA;\n",
              "      box-shadow: 0px 1px 2px rgba(60, 64, 67, 0.3), 0px 1px 3px 1px rgba(60, 64, 67, 0.15);\n",
              "      fill: #174EA6;\n",
              "    }\n",
              "\n",
              "    [theme=dark] .colab-df-convert {\n",
              "      background-color: #3B4455;\n",
              "      fill: #D2E3FC;\n",
              "    }\n",
              "\n",
              "    [theme=dark] .colab-df-convert:hover {\n",
              "      background-color: #434B5C;\n",
              "      box-shadow: 0px 1px 3px 1px rgba(0, 0, 0, 0.15);\n",
              "      filter: drop-shadow(0px 1px 2px rgba(0, 0, 0, 0.3));\n",
              "      fill: #FFFFFF;\n",
              "    }\n",
              "  </style>\n",
              "\n",
              "      <script>\n",
              "        const buttonEl =\n",
              "          document.querySelector('#df-08ba421e-cc2c-4b6c-a8f0-e1bb223b1610 button.colab-df-convert');\n",
              "        buttonEl.style.display =\n",
              "          google.colab.kernel.accessAllowed ? 'block' : 'none';\n",
              "\n",
              "        async function convertToInteractive(key) {\n",
              "          const element = document.querySelector('#df-08ba421e-cc2c-4b6c-a8f0-e1bb223b1610');\n",
              "          const dataTable =\n",
              "            await google.colab.kernel.invokeFunction('convertToInteractive',\n",
              "                                                     [key], {});\n",
              "          if (!dataTable) return;\n",
              "\n",
              "          const docLinkHtml = 'Like what you see? Visit the ' +\n",
              "            '<a target=\"_blank\" href=https://colab.research.google.com/notebooks/data_table.ipynb>data table notebook</a>'\n",
              "            + ' to learn more about interactive tables.';\n",
              "          element.innerHTML = '';\n",
              "          dataTable['output_type'] = 'display_data';\n",
              "          await google.colab.output.renderOutput(dataTable, element);\n",
              "          const docLink = document.createElement('div');\n",
              "          docLink.innerHTML = docLinkHtml;\n",
              "          element.appendChild(docLink);\n",
              "        }\n",
              "      </script>\n",
              "    </div>\n",
              "  </div>\n",
              "  "
            ]
          },
          "metadata": {},
          "execution_count": 113
        }
      ]
    },
    {
      "cell_type": "markdown",
      "source": [
        "**Explaination:**\n",
        "\n",
        "coursework.describe() function calculates the statistical summaries of the values in the array along a specific axis of the array."
      ],
      "metadata": {
        "id": "BaSHEaX-GQXt"
      }
    },
    {
      "cell_type": "markdown",
      "source": [
        "**6.4  Data Exploration and Visualization:**\n",
        "\n",
        "\n",
        "\n",
        "1. Write a code to show histogram plots and boxplots to visualize the distribution of the variables\n",
        "”age”, ”absence”, and ”G3”. Interpret the results and comment on the distribution of each variable.\n",
        "Write your answer in text cell of jupyter notebook."
      ],
      "metadata": {
        "id": "cO2F5W7KQCMm"
      }
    },
    {
      "cell_type": "markdown",
      "source": [
        "**Surface Explaination:**\n",
        "\n",
        "Here, the plot function is used to create a histogram, with a title displayed above the histogram to provide context. The x-axis and y-axis are labeled using the plt.xlabel and plt.ylabel functions (py.plot).After applying these functions and interpreting the code, a symmetrical histogram is produced."
      ],
      "metadata": {
        "id": "5ko1s_lfMe-5"
      }
    },
    {
      "cell_type": "code",
      "source": [
        "coursework['age'].plot(kind='hist', color = 'red', edgecolor = 'black', title = 'Age Column')\n",
        "plt.xlabel(\"Age\")\n",
        "plt.ylabel(\"Number of People\")"
      ],
      "metadata": {
        "id": "WryiGVRhQFSi",
        "colab": {
          "base_uri": "https://localhost:8080/",
          "height": 312
        },
        "outputId": "dcf9b314-22e2-41ec-afda-3de3e0680fe0"
      },
      "execution_count": null,
      "outputs": [
        {
          "output_type": "execute_result",
          "data": {
            "text/plain": [
              "Text(0, 0.5, 'Number of People')"
            ]
          },
          "metadata": {},
          "execution_count": 114
        },
        {
          "output_type": "display_data",
          "data": {
            "text/plain": [
              "<Figure size 432x288 with 1 Axes>"
            ],
            "image/png": "[encoded data removed]"
          },
          "metadata": {
            "needs_background": "light"
          }
        }
      ]
    },
    {
      "cell_type": "markdown",
      "source": [
        "**Explaination:**\n",
        "\n",
        "The above histogram depicts the information about the age of students on the x-axis and the frequency of students on the y-axis. The histogram illustrates that the majority of the students in the data are between the ages of 14 and 22. The largest group of students is 16 years old, while the smallest groups are 21 and 22 years old. There are over 80 students who are 15 years old and about 90 students who are 17 years old. There are more than 80 and 20 students who are 18 and 19 years old, respectively. There are almost 5 students who are 20 years old."
      ],
      "metadata": {
        "id": "ES-JcIjbASYz"
      }
    },
    {
      "cell_type": "code",
      "source": [
        "coursework['absences'].plot(kind='hist', color = 'green', edgecolor = 'black', title = 'Absence Column')\n",
        "plt.xlabel(\"Days of Absence\")\n",
        "plt.ylabel(\"Number of People\")"
      ],
      "metadata": {
        "id": "goQtoaShKnUh",
        "colab": {
          "base_uri": "https://localhost:8080/",
          "height": 312
        },
        "outputId": "ba6597c3-c29e-4dfb-fdc5-0a7326aa9d99"
      },
      "execution_count": null,
      "outputs": [
        {
          "output_type": "execute_result",
          "data": {
            "text/plain": [
              "Text(0, 0.5, 'Number of People')"
            ]
          },
          "metadata": {},
          "execution_count": 115
        },
        {
          "output_type": "display_data",
          "data": {
            "text/plain": [
              "<Figure size 432x288 with 1 Axes>"
            ],
            "image/png": "[encoded data removed]"
          },
          "metadata": {
            "needs_background": "light"
          }
        }
      ]
    },
    {
      "cell_type": "markdown",
      "source": [
        "**Explaination:**\n",
        "\n",
        "\n",
        "The above histogram depicts  the information about the number of days that students are absent in x-axis ,  the frequency of students in y-axis. The histogram indicates that a majority of students are absent for fewer than 10 days. About 55 students are absent for around 10 days, while approximately 25 students are absent for around 20 days. Only a small number of students are absent for around 30, 40, and 50 days. The smallest group of students is absent for around 70 days, with only one student in this group."
      ],
      "metadata": {
        "id": "ychaAPibGlw2"
      }
    },
    {
      "cell_type": "code",
      "source": [
        "coursework['G3'].plot(kind='hist', color = 'blue', edgecolor = 'black', width = 0.8, title = 'G3 Column')\n",
        "plt.xlabel(\"Score\")\n",
        "plt.ylabel(\"Number of People\")"
      ],
      "metadata": {
        "id": "v8AubwL9Krha",
        "colab": {
          "base_uri": "https://localhost:8080/",
          "height": 312
        },
        "outputId": "df7e7d72-62ec-4468-d489-23690aaba220"
      },
      "execution_count": null,
      "outputs": [
        {
          "output_type": "execute_result",
          "data": {
            "text/plain": [
              "Text(0, 0.5, 'Number of People')"
            ]
          },
          "metadata": {},
          "execution_count": 116
        },
        {
          "output_type": "display_data",
          "data": {
            "text/plain": [
              "<Figure size 432x288 with 1 Axes>"
            ],
            "image/png": "[encoded data removed]"
          },
          "metadata": {
            "needs_background": "light"
          }
        }
      ]
    },
    {
      "cell_type": "markdown",
      "source": [
        "**Explaination:**\n",
        "\n",
        "The above histogram depicts the information about thescores of students in column G3 in x-axis, and the number of students in y-axis. The largest group of students, around 1000, scored 10. However, about 10 students scored 5. Fewer than 40 students received a score of 0 in column G3. There are more than 20 students who scored 7, and around 60 students scored 8, 9, 11, 12, 13, 14, or 15.Less than 20 students received grades of 18 or 19, while about 20 students received grades of 16 or 17."
      ],
      "metadata": {
        "id": "bS7gdm9QACfo"
      }
    },
    {
      "cell_type": "markdown",
      "source": [
        "**Box Plot**\n",
        "\n",
        "An illustration of statistical data that includes the first quartile, median, third quartile, maximum, and minimum is called a box plot, also referred to as a whisker plot. A rectangle with lines extending from the top and bottom is how the box plot is visualized. A box plot can also be used to determine the interquartile range, which is the variation between the first and third quartiles. Look for values that are more than 1.5 times the interquartile range above the third quartile or below the first quartile to spot outliers, or data points that are noticeably higher or lower than the majority of the data."
      ],
      "metadata": {
        "id": "JrtRqpgUNGZb"
      }
    },
    {
      "cell_type": "code",
      "source": [
        "# Box Plot\n",
        "plt.title(\"Boxplot of Age Column\")\n",
        "coursework.boxplot(column = ['age'], grid = False, color ='red')\n",
        "plt.xlabel(\"Age\")\n",
        "plt.ylabel(\"Frequency of People\")"
      ],
      "metadata": {
        "id": "OpD_XFHqKx5-",
        "colab": {
          "base_uri": "https://localhost:8080/",
          "height": 312
        },
        "outputId": "8ff8122c-b63c-4f20-8aa1-f89b1f5f3d9c"
      },
      "execution_count": null,
      "outputs": [
        {
          "output_type": "execute_result",
          "data": {
            "text/plain": [
              "Text(0, 0.5, 'Frequency of People')"
            ]
          },
          "metadata": {},
          "execution_count": 117
        },
        {
          "output_type": "display_data",
          "data": {
            "text/plain": [
              "<Figure size 432x288 with 1 Axes>"
            ],
            "image/png": "[encoded data removed]"
          },
          "metadata": {
            "needs_background": "light"
          }
        }
      ]
    },
    {
      "cell_type": "markdown",
      "source": [
        "**Explaination:**\n",
        "\n",
        "Here, the lowest horizontal line on the plot represents the minimum age of the students, which is 15. The lower edge of the rectangle represents the first quartile which is 16 in this case. The middle line of the rectangle represents the median, or the age at which 50% of the students are younger, which is 17. The upper edge of the rectangle represents the third quartile, or the age at which 75% of the students are younger, which is 18. The highest horizontal line on the plot represents the maximum age of the students, which is 21. The lines extending from the minimum and maximum values to the first and third quartiles are called whiskers. There is only one outlier in this column. The distribution of ages in this column is positively skewed, meaning that there are more values concentrated on the lower end of the range, with fewer values as the age increases."
      ],
      "metadata": {
        "id": "_DWjDAVCOp0M"
      }
    },
    {
      "cell_type": "code",
      "source": [
        "plt.title(\"Boxplot of Absences Column\")\n",
        "coursework.boxplot(column = ['absences'], grid = False, color ='green')\n",
        "plt.xlabel(\"Absences\")\n",
        "plt.ylabel(\"Frequency of People\")"
      ],
      "metadata": {
        "id": "1syHl8KdOsvm",
        "colab": {
          "base_uri": "https://localhost:8080/",
          "height": 312
        },
        "outputId": "7f04e470-18c0-4abb-eb6b-ae85f429017f"
      },
      "execution_count": null,
      "outputs": [
        {
          "output_type": "execute_result",
          "data": {
            "text/plain": [
              "Text(0, 0.5, 'Frequency of People')"
            ]
          },
          "metadata": {},
          "execution_count": 118
        },
        {
          "output_type": "display_data",
          "data": {
            "text/plain": [
              "<Figure size 432x288 with 1 Axes>"
            ],
            "image/png": "[encoded data removed]"
          },
          "metadata": {
            "needs_background": "light"
          }
        }
      ]
    },
    {
      "cell_type": "markdown",
      "source": [
        "**Explaination:**\n",
        "\n",
        "\n",
        "Here, the minimum number of days that students can miss from class is represented by the lowest horizontal line on the plot, which is 0. The first quartile, or the number of absent days where students have fewer absences, is represented by the lower edge of the rectangle, which in this case is also 0. The median, or the number of absent days at which the students have fewer absences, is represented by the middle line of the rectangle, which is 4 in this case. The third quartile, or the number of absent days where students have fewer absences, is represented by the upper edge of the rectangle, which is 8 absent days.The highest horizontal line on the plot represents the maximum number of absent days for students, which is 21. The dots above the maximum value represent outlier data, of which there are many in this column. The distribution of absent days in this column is positively skewed, meaning that there are more values concentrated on the lower end of the range, with fewer values as the number of absent days increases."
      ],
      "metadata": {
        "id": "Zy2HuraPUlxI"
      }
    },
    {
      "cell_type": "code",
      "source": [
        "plt.title(\"Boxplot of G3 Column\")\n",
        "coursework.boxplot(column = ['G3'], grid = False, color ='blue')\n",
        "plt.xlabel(\"Pass and Fail ratio of both school\")\n",
        "plt.ylabel(\"Frequency of People\")"
      ],
      "metadata": {
        "id": "XN1B5jL7Ozif",
        "colab": {
          "base_uri": "https://localhost:8080/",
          "height": 312
        },
        "outputId": "33761e02-9d40-4d4c-9f6b-7c397133ee58"
      },
      "execution_count": null,
      "outputs": [
        {
          "output_type": "execute_result",
          "data": {
            "text/plain": [
              "Text(0, 0.5, 'Frequency of People')"
            ]
          },
          "metadata": {},
          "execution_count": 119
        },
        {
          "output_type": "display_data",
          "data": {
            "text/plain": [
              "<Figure size 432x288 with 1 Axes>"
            ],
            "image/png": "[encoded data removed]"
          },
          "metadata": {
            "needs_background": "light"
          }
        }
      ]
    },
    {
      "cell_type": "markdown",
      "source": [
        "**Explaination**\n",
        "\n",
        "Here, the minimum score for each student is represented by the lowest horizontal line on the plot, which is 0. The first quartile, or the score at which the students have a lower score—in this case, 8, is represented by the lower edge of the rectangle. The median, or the score at which the majority of students have a lower score, is shown by the middle line of the rectangle, which is 12 in this case. The third quartile, or the score at which the students have a lower score, is represented by the upper edge of the rectangle and is represented by the number 14. The highest horizontal line on the plot represents the maximum score of the students, which is 20. The distribution of scores in column G3 is negatively skewed, meaning that there are more values concentrated on the higher end of the range, with fewer values as the score decreases."
      ],
      "metadata": {
        "id": "WEPT68k6VE_B"
      }
    },
    {
      "cell_type": "code",
      "source": [
        "plt.title(\"Boxplot of age, absences, and G3\")\n",
        "b_plot = coursework.boxplot(column = ['age', 'absences', 'G3'], color= 'black')\n",
        "b_plot.plot()\n"
      ],
      "metadata": {
        "id": "6EYdSuptlh_m",
        "colab": {
          "base_uri": "https://localhost:8080/",
          "height": 298
        },
        "outputId": "fcdaa326-5e53-4803-a1ad-0cd5b9ed1a50"
      },
      "execution_count": null,
      "outputs": [
        {
          "output_type": "execute_result",
          "data": {
            "text/plain": [
              "[]"
            ]
          },
          "metadata": {},
          "execution_count": 120
        },
        {
          "output_type": "display_data",
          "data": {
            "text/plain": [
              "<Figure size 432x288 with 1 Axes>"
            ],
            "image/png": "[encoded data removed]"
          },
          "metadata": {
            "needs_background": "light"
          }
        }
      ]
    },
    {
      "cell_type": "markdown",
      "source": [
        "This above diagram is the boxplot of three different variables ”age”, ”absence”, and ”G3”."
      ],
      "metadata": {
        "id": "c9UOGdpYVQDr"
      }
    },
    {
      "cell_type": "markdown",
      "source": [
        "2. Write a code to show a bar graph of the total number of students who passed the final term grouped\n",
        "according to the school that they belong to. Use proper labels in the graph and interpret the results."
      ],
      "metadata": {
        "id": "HqIyKXVmQabd"
      }
    },
    {
      "cell_type": "code",
      "source": [
        "pd.crosstab(coursework.passed, coursework.school).plot(kind = 'bar', xlabel=\"Passed or Failed\", ylabel = \"Frequency of student\", color = {\"GP\": 'green', \"MS\":'blue'}, edgecolor = 'black')"
      ],
      "metadata": {
        "colab": {
          "base_uri": "https://localhost:8080/",
          "height": 306
        },
        "id": "jUf5i6YxirWU",
        "outputId": "91dfbb2f-4f26-425a-9632-9a6885f8a792"
      },
      "execution_count": null,
      "outputs": [
        {
          "output_type": "execute_result",
          "data": {
            "text/plain": [
              "<matplotlib.axes._subplots.AxesSubplot at 0x7f9d20b952e0>"
            ]
          },
          "metadata": {},
          "execution_count": 122
        },
        {
          "output_type": "display_data",
          "data": {
            "text/plain": [
              "<Figure size 432x288 with 1 Axes>"
            ],
            "image/png": "[encoded data removed]"
          },
          "metadata": {
            "needs_background": "light"
          }
        }
      ]
    },
    {
      "cell_type": "markdown",
      "source": [
        "**Explaination:**\n",
        "\n",
        "The above bar graph depicts information about the total number of students who passed the final term grouped according to the school that they belong to. The x-axis represents whether a student passed or failed, with \"yes\" indicating a pass and \"no\" indicating a fail. The y-axis shows the number of students. The blue bar represents the data for students from school GP, while the green bar represents data for students from school MS. From school GP, more than 50 students have failed, while more than 250 students have passed. From school MS, around 5 students have failed and around 30 students have passed. The crosstab method from the pandas library can be used to compare the \"passed\" and \"schools\" columns. The plot method is used to create a graph, with the kind parameter set to \"bar\" to create a bar graph."
      ],
      "metadata": {
        "id": "Kxn6_Yi0VX4h"
      }
    },
    {
      "cell_type": "markdown",
      "source": [
        "3. Write a code to show a pie chart of analysis of students’ grades as per their school. Use proper labels\n",
        "in the graph and interpret the results."
      ],
      "metadata": {
        "id": "ZEMvcnItQdVY"
      }
    },
    {
      "cell_type": "code",
      "source": [
        "coursework.groupby(['G2'])['school'].value_counts().plot(kind='pie', radius = 5, autopct = \"%.2f%%\", title= 'Interpretation of students’ grades of G1 column')"
      ],
      "metadata": {
        "colab": {
          "base_uri": "https://localhost:8080/",
          "height": 1000
        },
        "id": "qEGARVnyjwQt",
        "outputId": "32425842-e493-4074-bf9d-de56ad7f9a5f"
      },
      "execution_count": null,
      "outputs": [
        {
          "output_type": "execute_result",
          "data": {
            "text/plain": [
              "<matplotlib.axes._subplots.AxesSubplot at 0x7f9d1e3a0ca0>"
            ]
          },
          "metadata": {},
          "execution_count": 127
        },
        {
          "output_type": "display_data",
          "data": {
            "text/plain": [
              "<Figure size 432x288 with 1 Axes>"
            ],
            "image/png": "[encoded data removed]"
          },
          "metadata": {}
        }
      ]
    },
    {
      "cell_type": "code",
      "source": [
        "coursework.groupby(['G3'])['school'].value_counts().plot(kind='pie', radius = 5, autopct = \"%.2f%%\", title= 'Interpretation of students’ grades in G2 column')"
      ],
      "metadata": {
        "colab": {
          "base_uri": "https://localhost:8080/",
          "height": 1000
        },
        "id": "g-hGeQ5Xj9ac",
        "outputId": "8b407cc9-e103-487a-b8a3-19d6d5ce1641"
      },
      "execution_count": null,
      "outputs": [
        {
          "output_type": "execute_result",
          "data": {
            "text/plain": [
              "<matplotlib.axes._subplots.AxesSubplot at 0x7f9d1e2eff40>"
            ]
          },
          "metadata": {},
          "execution_count": 128
        },
        {
          "output_type": "display_data",
          "data": {
            "text/plain": [
              "<Figure size 432x288 with 1 Axes>"
            ],
            "image/png": "[encoded data removed]"
          },
          "metadata": {}
        }
      ]
    },
    {
      "cell_type": "code",
      "source": [
        "coursework.groupby(['G3'])['school'].value_counts().plot(kind='pie', radius = 5, autopct = \"%.2f%%\", title= 'Interpretation of students’ grades of G3 column')"
      ],
      "metadata": {
        "colab": {
          "base_uri": "https://localhost:8080/",
          "height": 1000
        },
        "id": "ItFFUMsYkjTe",
        "outputId": "2da4f209-3da9-4a21-8f1e-92d7818dd327"
      },
      "execution_count": null,
      "outputs": [
        {
          "output_type": "execute_result",
          "data": {
            "text/plain": [
              "<matplotlib.axes._subplots.AxesSubplot at 0x7f9d1e139fd0>"
            ]
          },
          "metadata": {},
          "execution_count": 129
        },
        {
          "output_type": "display_data",
          "data": {
            "text/plain": [
              "<Figure size 432x288 with 1 Axes>"
            ],
            "image/png": "[encoded data removed]"
          },
          "metadata": {}
        }
      ]
    },
    {
      "cell_type": "markdown",
      "source": [
        "**Explaination:**\n",
        "\n",
        "The above three pie charts depicts the information about the grade and percentage of students of G1,G2 and G3 column respectively."
      ],
      "metadata": {
        "id": "v-GdRDbGZVVZ"
      }
    },
    {
      "cell_type": "markdown",
      "source": [
        "4. Write a code to show a bar graph with the relation of the father’s occupation with the grade of the\n",
        "student. Use proper labels in the graph and interpret the results."
      ],
      "metadata": {
        "id": "hBklxQewQg_J"
      }
    },
    {
      "cell_type": "code",
      "source": [
        "pd.crosstab(coursework.G3, coursework.Fjob).plot(kind = 'bar', title=\"Students who passed the final term as per their father's job\", ylabel='Total No. of Students', width=5.0, edgecolor='Brown')"
      ],
      "metadata": {
        "id": "moS1MxYIQhvn",
        "colab": {
          "base_uri": "https://localhost:8080/",
          "height": 315
        },
        "outputId": "cc09d966-6886-46a6-c372-90e241806b57"
      },
      "execution_count": null,
      "outputs": [
        {
          "output_type": "execute_result",
          "data": {
            "text/plain": [
              "<matplotlib.axes._subplots.AxesSubplot at 0x7f9d20b038e0>"
            ]
          },
          "metadata": {},
          "execution_count": 43
        },
        {
          "output_type": "display_data",
          "data": {
            "text/plain": [
              "<Figure size 432x288 with 1 Axes>"
            ],
            "image/png": "[encoded data removed]"
          },
          "metadata": {
            "needs_background": "light"
          }
        }
      ]
    },
    {
      "cell_type": "markdown",
      "source": [
        "**Explaination:**\n",
        "\n",
        "The above bar graph depicts the information relating to the father's occupation with respect to the student's grade. The highest grades were earned by students whose father works as a teacher while the lowest grades were earned by students whose father stay at home."
      ],
      "metadata": {
        "id": "ddsws0RJLKui"
      }
    }
  ]
}